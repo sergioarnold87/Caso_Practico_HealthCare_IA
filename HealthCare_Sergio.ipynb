{
  "nbformat": 4,
  "nbformat_minor": 5,
  "metadata": {
    "kernelspec": {
      "display_name": "Python 3 (ipykernel)",
      "language": "python",
      "name": "python3"
    },
    "language_info": {
      "codemirror_mode": {
        "name": "ipython",
        "version": 3
      },
      "file_extension": ".py",
      "mimetype": "text/x-python",
      "name": "python",
      "nbconvert_exporter": "python",
      "pygments_lexer": "ipython3",
      "version": "3.8.5"
    },
    "colab": {
      "name": "Copy of HealthCare_Sergio.ipynb",
      "provenance": [],
      "collapsed_sections": []
    }
  },
  "cells": [
    {
      "cell_type": "markdown",
      "metadata": {
        "id": "08e35866"
      },
      "source": [
        "# 1  Entender el enunciado del problema y el caso práctico"
      ],
      "id": "08e35866"
    },
    {
      "cell_type": "markdown",
      "metadata": {
        "id": "ed0d5d9b"
      },
      "source": [
        "![alt text](https://drive.google.com/uc?id=1GAWfaucw0yYWOvVFHCvPUAIe87sqRxAd)"
      ],
      "id": "ed0d5d9b"
    },
    {
      "cell_type": "markdown",
      "metadata": {
        "id": "734a5ab4"
      },
      "source": [
        "![alt text](https://drive.google.com/uc?id=1mR5yqG3DTryYlUELiGKn4GBaSmEZng_-)"
      ],
      "id": "734a5ab4"
    },
    {
      "cell_type": "markdown",
      "metadata": {
        "id": "4d24cc99"
      },
      "source": [
        "![alt text](https://drive.google.com/uc?id=15G1y2Cs6nHtdM25gfwjyKDpGwVr7A10_)"
      ],
      "id": "4d24cc99"
    },
    {
      "cell_type": "markdown",
      "metadata": {
        "id": "2e99f5c2"
      },
      "source": [
        "- Fuente original: https://www.kaggle.com/mateuszbuda/lgg-mri-segmentation\n",
        "- Clickable link for the full list of startups in AI medical imagery: https://research.aimultiple.com/looking-for-better-medical-imaging-for-early-diagnostic-and-monitoring-contact-the-leading-vendors-here/"
      ],
      "id": "2e99f5c2"
    },
    {
      "cell_type": "markdown",
      "metadata": {
        "id": "f7d499a2"
      },
      "source": [
        "![alt text](https://drive.google.com/uc?id=1aq_9XV_rX7DCNXPGMkMh8QLRnMmdDcD_)"
      ],
      "id": "f7d499a2"
    },
    {
      "cell_type": "markdown",
      "metadata": {
        "id": "771b42d1"
      },
      "source": [
        "![alt text](https://drive.google.com/uc?id=1CMPW0u1Lq5aNrJX3uffBIrLAoPOtUTtE)"
      ],
      "id": "771b42d1"
    },
    {
      "cell_type": "markdown",
      "metadata": {
        "id": "a2bac417"
      },
      "source": [
        "![alt text](https://drive.google.com/uc?id=1uP9hs79W-1yTLVbEKdLMdi7Bb4c1HN9P)"
      ],
      "id": "a2bac417"
    },
    {
      "cell_type": "markdown",
      "metadata": {
        "id": "82805127"
      },
      "source": [
        "# 2: IMPORTAR LIBRERÍAS Y DATASETS"
      ],
      "id": "82805127"
    },
    {
      "cell_type": "code",
      "metadata": {
        "id": "e9ad6a9f"
      },
      "source": [
        "import pandas as pd\n",
        "import numpy as np\n",
        "import seaborn as sns\n",
        "import matplotlib.pyplot as plt\n",
        "import zipfile\n",
        "import cv2\n",
        "from skimage import io\n",
        "import tensorflow as tf\n",
        "from tensorflow.python.keras import Sequential\n",
        "from tensorflow.keras import layers, optimizers\n",
        "from tensorflow.keras.applications import DenseNet121\n",
        "from tensorflow.keras.applications.resnet50 import ResNet50\n",
        "from tensorflow.keras.layers import *\n",
        "from tensorflow.keras.models import Model, load_model\n",
        "from tensorflow.keras.initializers import glorot_uniform\n",
        "from tensorflow.keras.utils import plot_model\n",
        "from tensorflow.keras.callbacks import ReduceLROnPlateau, EarlyStopping, ModelCheckpoint, LearningRateScheduler\n",
        "from IPython.display import display\n",
        "from tensorflow.keras import backend as K\n",
        "from sklearn.preprocessing import StandardScaler, normalize\n",
        "import os\n",
        "import glob\n",
        "import random\n",
        "from google.colab import files #Librería para cargar ficheros directamente en Colab\n",
        "%matplotlib inline"
      ],
      "id": "e9ad6a9f",
      "execution_count": null,
      "outputs": []
    },
    {
      "cell_type": "code",
      "metadata": {
        "colab": {
          "base_uri": "https://localhost:8080/"
        },
        "id": "5c3d4acc",
        "outputId": "611dd701-f6fc-4aed-de26-d169ccbacabf"
      },
      "source": [
        "# Necesitaremos montar su disco usando los siguientes comandos:\n",
        "# Para obtener más información sobre el montaje, puedes consultar: https://stackoverflow.com/questions/46986398/import-data-into-google-colaboratory\n",
        "\n",
        "from google.colab import drive\n",
        "drive.mount('/content/drive')"
      ],
      "id": "5c3d4acc",
      "execution_count": null,
      "outputs": [
        {
          "output_type": "stream",
          "name": "stdout",
          "text": [
            "Mounted at /content/drive\n"
          ]
        }
      ]
    },
    {
      "cell_type": "code",
      "metadata": {
        "colab": {
          "base_uri": "https://localhost:8080/"
        },
        "id": "p0UARIoKa_3q",
        "outputId": "9c2b08ef-5911-4fa9-8b2b-efdf3511bfcd"
      },
      "source": [
        "from google.colab import drive\n",
        "drive.mount('/content/drive')"
      ],
      "id": "p0UARIoKa_3q",
      "execution_count": null,
      "outputs": [
        {
          "output_type": "stream",
          "name": "stdout",
          "text": [
            "Drive already mounted at /content/drive; to attempt to forcibly remount, call drive.mount(\"/content/drive\", force_remount=True).\n"
          ]
        }
      ]
    },
    {
      "cell_type": "code",
      "metadata": {
        "colab": {
          "base_uri": "https://localhost:8080/"
        },
        "id": "56100cd7",
        "outputId": "b79db908-adc2-4aed-a3f4-1a93b266e4e7"
      },
      "source": [
        "# Navegamos hasta el directorio My Drive para almacenar el conjunto de datos y herramientas adicionales\n",
        "%cd /content/drive/MyDrive/Healthcare+AI+Datasets/Brain_MRI\n"
      ],
      "id": "56100cd7",
      "execution_count": null,
      "outputs": [
        {
          "output_type": "stream",
          "name": "stdout",
          "text": [
            "/content/drive/MyDrive/Healthcare+AI+Datasets/Brain_MRI\n"
          ]
        }
      ]
    },
    {
      "cell_type": "code",
      "metadata": {
        "id": "ec4e854d"
      },
      "source": [
        "# Datos que contienen la ruta a Brain MRI y su máscara correspondiente\n",
        "brain_df = pd.read_csv('data_mask.csv')"
      ],
      "id": "ec4e854d",
      "execution_count": null,
      "outputs": []
    },
    {
      "cell_type": "markdown",
      "metadata": {
        "id": "d656b27b"
      },
      "source": [
        "![alt text](https://drive.google.com/uc?id=1UhYwK8wILbDn2DhXExrpZz_i5oXTbIp6)"
      ],
      "id": "d656b27b"
    },
    {
      "cell_type": "code",
      "metadata": {
        "colab": {
          "base_uri": "https://localhost:8080/"
        },
        "id": "6795f10f",
        "outputId": "a5af38d1-6382-46ca-dd1f-74793ceda65d"
      },
      "source": [
        "brain_df.info()"
      ],
      "id": "6795f10f",
      "execution_count": null,
      "outputs": [
        {
          "output_type": "stream",
          "name": "stdout",
          "text": [
            "<class 'pandas.core.frame.DataFrame'>\n",
            "RangeIndex: 3929 entries, 0 to 3928\n",
            "Data columns (total 4 columns):\n",
            " #   Column      Non-Null Count  Dtype \n",
            "---  ------      --------------  ----- \n",
            " 0   patient_id  3929 non-null   object\n",
            " 1   image_path  3929 non-null   object\n",
            " 2   mask_path   3929 non-null   object\n",
            " 3   mask        3929 non-null   int64 \n",
            "dtypes: int64(1), object(3)\n",
            "memory usage: 122.9+ KB\n"
          ]
        }
      ]
    },
    {
      "cell_type": "code",
      "metadata": {
        "colab": {
          "base_uri": "https://localhost:8080/",
          "height": 1000
        },
        "id": "bc8e1116",
        "outputId": "dd28a7ac-d15e-4210-903e-45c872e4f878"
      },
      "source": [
        "brain_df.head(50)"
      ],
      "id": "bc8e1116",
      "execution_count": null,
      "outputs": [
        {
          "output_type": "execute_result",
          "data": {
            "text/html": [
              "<div>\n",
              "<style scoped>\n",
              "    .dataframe tbody tr th:only-of-type {\n",
              "        vertical-align: middle;\n",
              "    }\n",
              "\n",
              "    .dataframe tbody tr th {\n",
              "        vertical-align: top;\n",
              "    }\n",
              "\n",
              "    .dataframe thead th {\n",
              "        text-align: right;\n",
              "    }\n",
              "</style>\n",
              "<table border=\"1\" class=\"dataframe\">\n",
              "  <thead>\n",
              "    <tr style=\"text-align: right;\">\n",
              "      <th></th>\n",
              "      <th>patient_id</th>\n",
              "      <th>image_path</th>\n",
              "      <th>mask_path</th>\n",
              "      <th>mask</th>\n",
              "    </tr>\n",
              "  </thead>\n",
              "  <tbody>\n",
              "    <tr>\n",
              "      <th>0</th>\n",
              "      <td>TCGA_CS_5395_19981004</td>\n",
              "      <td>TCGA_CS_5395_19981004/TCGA_CS_5395_19981004_1.tif</td>\n",
              "      <td>TCGA_CS_5395_19981004/TCGA_CS_5395_19981004_1_...</td>\n",
              "      <td>0</td>\n",
              "    </tr>\n",
              "    <tr>\n",
              "      <th>1</th>\n",
              "      <td>TCGA_CS_5395_19981004</td>\n",
              "      <td>TCGA_CS_4944_20010208/TCGA_CS_4944_20010208_1.tif</td>\n",
              "      <td>TCGA_CS_4944_20010208/TCGA_CS_4944_20010208_1_...</td>\n",
              "      <td>0</td>\n",
              "    </tr>\n",
              "    <tr>\n",
              "      <th>2</th>\n",
              "      <td>TCGA_CS_5395_19981004</td>\n",
              "      <td>TCGA_CS_4941_19960909/TCGA_CS_4941_19960909_1.tif</td>\n",
              "      <td>TCGA_CS_4941_19960909/TCGA_CS_4941_19960909_1_...</td>\n",
              "      <td>0</td>\n",
              "    </tr>\n",
              "    <tr>\n",
              "      <th>3</th>\n",
              "      <td>TCGA_CS_5395_19981004</td>\n",
              "      <td>TCGA_CS_4943_20000902/TCGA_CS_4943_20000902_1.tif</td>\n",
              "      <td>TCGA_CS_4943_20000902/TCGA_CS_4943_20000902_1_...</td>\n",
              "      <td>0</td>\n",
              "    </tr>\n",
              "    <tr>\n",
              "      <th>4</th>\n",
              "      <td>TCGA_CS_5395_19981004</td>\n",
              "      <td>TCGA_CS_5396_20010302/TCGA_CS_5396_20010302_1.tif</td>\n",
              "      <td>TCGA_CS_5396_20010302/TCGA_CS_5396_20010302_1_...</td>\n",
              "      <td>0</td>\n",
              "    </tr>\n",
              "    <tr>\n",
              "      <th>5</th>\n",
              "      <td>TCGA_CS_5395_19981004</td>\n",
              "      <td>TCGA_CS_5393_19990606/TCGA_CS_5393_19990606_1.tif</td>\n",
              "      <td>TCGA_CS_5393_19990606/TCGA_CS_5393_19990606_1_...</td>\n",
              "      <td>0</td>\n",
              "    </tr>\n",
              "    <tr>\n",
              "      <th>6</th>\n",
              "      <td>TCGA_CS_5395_19981004</td>\n",
              "      <td>TCGA_CS_4942_19970222/TCGA_CS_4942_19970222_1.tif</td>\n",
              "      <td>TCGA_CS_4942_19970222/TCGA_CS_4942_19970222_1_...</td>\n",
              "      <td>0</td>\n",
              "    </tr>\n",
              "    <tr>\n",
              "      <th>7</th>\n",
              "      <td>TCGA_CS_5395_19981004</td>\n",
              "      <td>TCGA_CS_5397_20010315/TCGA_CS_5397_20010315_1.tif</td>\n",
              "      <td>TCGA_CS_5397_20010315/TCGA_CS_5397_20010315_1_...</td>\n",
              "      <td>0</td>\n",
              "    </tr>\n",
              "    <tr>\n",
              "      <th>8</th>\n",
              "      <td>TCGA_CS_5395_19981004</td>\n",
              "      <td>TCGA_CS_6188_20010812/TCGA_CS_6188_20010812_1.tif</td>\n",
              "      <td>TCGA_CS_6188_20010812/TCGA_CS_6188_20010812_1_...</td>\n",
              "      <td>0</td>\n",
              "    </tr>\n",
              "    <tr>\n",
              "      <th>9</th>\n",
              "      <td>TCGA_CS_5395_19981004</td>\n",
              "      <td>TCGA_CS_6666_20011109/TCGA_CS_6666_20011109_1.tif</td>\n",
              "      <td>TCGA_CS_6666_20011109/TCGA_CS_6666_20011109_1_...</td>\n",
              "      <td>0</td>\n",
              "    </tr>\n",
              "    <tr>\n",
              "      <th>10</th>\n",
              "      <td>TCGA_CS_5395_19981004</td>\n",
              "      <td>TCGA_CS_6669_20020102/TCGA_CS_6669_20020102_1.tif</td>\n",
              "      <td>TCGA_CS_6669_20020102/TCGA_CS_6669_20020102_1_...</td>\n",
              "      <td>0</td>\n",
              "    </tr>\n",
              "    <tr>\n",
              "      <th>11</th>\n",
              "      <td>TCGA_CS_5395_19981004</td>\n",
              "      <td>TCGA_CS_6186_20000601/TCGA_CS_6186_20000601_1.tif</td>\n",
              "      <td>TCGA_CS_6186_20000601/TCGA_CS_6186_20000601_1_...</td>\n",
              "      <td>0</td>\n",
              "    </tr>\n",
              "    <tr>\n",
              "      <th>12</th>\n",
              "      <td>TCGA_CS_5395_19981004</td>\n",
              "      <td>TCGA_DU_5851_19950428/TCGA_DU_5851_19950428_1.tif</td>\n",
              "      <td>TCGA_DU_5851_19950428/TCGA_DU_5851_19950428_1_...</td>\n",
              "      <td>0</td>\n",
              "    </tr>\n",
              "    <tr>\n",
              "      <th>13</th>\n",
              "      <td>TCGA_CS_5395_19981004</td>\n",
              "      <td>TCGA_CS_6665_20010817/TCGA_CS_6665_20010817_1.tif</td>\n",
              "      <td>TCGA_CS_6665_20010817/TCGA_CS_6665_20010817_1_...</td>\n",
              "      <td>0</td>\n",
              "    </tr>\n",
              "    <tr>\n",
              "      <th>14</th>\n",
              "      <td>TCGA_CS_5395_19981004</td>\n",
              "      <td>TCGA_CS_6668_20011025/TCGA_CS_6668_20011025_1.tif</td>\n",
              "      <td>TCGA_CS_6668_20011025/TCGA_CS_6668_20011025_1_...</td>\n",
              "      <td>0</td>\n",
              "    </tr>\n",
              "    <tr>\n",
              "      <th>15</th>\n",
              "      <td>TCGA_CS_5395_19981004</td>\n",
              "      <td>TCGA_DU_5849_19950405/TCGA_DU_5849_19950405_1.tif</td>\n",
              "      <td>TCGA_DU_5849_19950405/TCGA_DU_5849_19950405_1_...</td>\n",
              "      <td>0</td>\n",
              "    </tr>\n",
              "    <tr>\n",
              "      <th>16</th>\n",
              "      <td>TCGA_CS_5395_19981004</td>\n",
              "      <td>TCGA_CS_6290_20000917/TCGA_CS_6290_20000917_1.tif</td>\n",
              "      <td>TCGA_CS_6290_20000917/TCGA_CS_6290_20000917_1_...</td>\n",
              "      <td>0</td>\n",
              "    </tr>\n",
              "    <tr>\n",
              "      <th>17</th>\n",
              "      <td>TCGA_CS_5395_19981004</td>\n",
              "      <td>TCGA_DU_5872_19950223/TCGA_DU_5872_19950223_1.tif</td>\n",
              "      <td>TCGA_DU_5872_19950223/TCGA_DU_5872_19950223_1_...</td>\n",
              "      <td>0</td>\n",
              "    </tr>\n",
              "    <tr>\n",
              "      <th>18</th>\n",
              "      <td>TCGA_CS_5395_19981004</td>\n",
              "      <td>TCGA_DU_5874_19950510/TCGA_DU_5874_19950510_1.tif</td>\n",
              "      <td>TCGA_DU_5874_19950510/TCGA_DU_5874_19950510_1_...</td>\n",
              "      <td>0</td>\n",
              "    </tr>\n",
              "    <tr>\n",
              "      <th>19</th>\n",
              "      <td>TCGA_CS_5395_19981004</td>\n",
              "      <td>TCGA_DU_5855_19951217/TCGA_DU_5855_19951217_1.tif</td>\n",
              "      <td>TCGA_DU_5855_19951217/TCGA_DU_5855_19951217_1_...</td>\n",
              "      <td>0</td>\n",
              "    </tr>\n",
              "    <tr>\n",
              "      <th>20</th>\n",
              "      <td>TCGA_CS_4944_20010208</td>\n",
              "      <td>TCGA_DU_5854_19951104/TCGA_DU_5854_19951104_1.tif</td>\n",
              "      <td>TCGA_DU_5854_19951104/TCGA_DU_5854_19951104_1_...</td>\n",
              "      <td>0</td>\n",
              "    </tr>\n",
              "    <tr>\n",
              "      <th>21</th>\n",
              "      <td>TCGA_CS_4944_20010208</td>\n",
              "      <td>TCGA_DU_5853_19950823/TCGA_DU_5853_19950823_1.tif</td>\n",
              "      <td>TCGA_DU_5853_19950823/TCGA_DU_5853_19950823_1_...</td>\n",
              "      <td>0</td>\n",
              "    </tr>\n",
              "    <tr>\n",
              "      <th>22</th>\n",
              "      <td>TCGA_CS_4944_20010208</td>\n",
              "      <td>TCGA_DU_5852_19950709/TCGA_DU_5852_19950709_1.tif</td>\n",
              "      <td>TCGA_DU_5852_19950709/TCGA_DU_5852_19950709_1_...</td>\n",
              "      <td>0</td>\n",
              "    </tr>\n",
              "    <tr>\n",
              "      <th>23</th>\n",
              "      <td>TCGA_CS_4944_20010208</td>\n",
              "      <td>TCGA_DU_6399_19830416/TCGA_DU_6399_19830416_1.tif</td>\n",
              "      <td>TCGA_DU_6399_19830416/TCGA_DU_6399_19830416_1_...</td>\n",
              "      <td>0</td>\n",
              "    </tr>\n",
              "    <tr>\n",
              "      <th>24</th>\n",
              "      <td>TCGA_CS_4944_20010208</td>\n",
              "      <td>TCGA_DU_6400_19830518/TCGA_DU_6400_19830518_1.tif</td>\n",
              "      <td>TCGA_DU_6400_19830518/TCGA_DU_6400_19830518_1_...</td>\n",
              "      <td>0</td>\n",
              "    </tr>\n",
              "    <tr>\n",
              "      <th>25</th>\n",
              "      <td>TCGA_CS_4944_20010208</td>\n",
              "      <td>TCGA_DU_6404_19850629/TCGA_DU_6404_19850629_1.tif</td>\n",
              "      <td>TCGA_DU_6404_19850629/TCGA_DU_6404_19850629_1_...</td>\n",
              "      <td>0</td>\n",
              "    </tr>\n",
              "    <tr>\n",
              "      <th>26</th>\n",
              "      <td>TCGA_CS_4944_20010208</td>\n",
              "      <td>TCGA_DU_6407_19860514/TCGA_DU_6407_19860514_1.tif</td>\n",
              "      <td>TCGA_DU_6407_19860514/TCGA_DU_6407_19860514_1_...</td>\n",
              "      <td>0</td>\n",
              "    </tr>\n",
              "    <tr>\n",
              "      <th>27</th>\n",
              "      <td>TCGA_CS_4944_20010208</td>\n",
              "      <td>TCGA_DU_6408_19860521/TCGA_DU_6408_19860521_1.tif</td>\n",
              "      <td>TCGA_DU_6408_19860521/TCGA_DU_6408_19860521_1_...</td>\n",
              "      <td>0</td>\n",
              "    </tr>\n",
              "    <tr>\n",
              "      <th>28</th>\n",
              "      <td>TCGA_CS_4944_20010208</td>\n",
              "      <td>TCGA_DU_6405_19851005/TCGA_DU_6405_19851005_1.tif</td>\n",
              "      <td>TCGA_DU_6405_19851005/TCGA_DU_6405_19851005_1_...</td>\n",
              "      <td>0</td>\n",
              "    </tr>\n",
              "    <tr>\n",
              "      <th>29</th>\n",
              "      <td>TCGA_CS_4944_20010208</td>\n",
              "      <td>TCGA_DU_7018_19911220/TCGA_DU_7018_19911220_1.tif</td>\n",
              "      <td>TCGA_DU_7018_19911220/TCGA_DU_7018_19911220_1_...</td>\n",
              "      <td>0</td>\n",
              "    </tr>\n",
              "    <tr>\n",
              "      <th>30</th>\n",
              "      <td>TCGA_CS_4944_20010208</td>\n",
              "      <td>TCGA_DU_7019_19940908/TCGA_DU_7019_19940908_1.tif</td>\n",
              "      <td>TCGA_DU_7019_19940908/TCGA_DU_7019_19940908_1_...</td>\n",
              "      <td>0</td>\n",
              "    </tr>\n",
              "    <tr>\n",
              "      <th>31</th>\n",
              "      <td>TCGA_CS_4944_20010208</td>\n",
              "      <td>TCGA_DU_7014_19860618/TCGA_DU_7014_19860618_1.tif</td>\n",
              "      <td>TCGA_DU_7014_19860618/TCGA_DU_7014_19860618_1_...</td>\n",
              "      <td>0</td>\n",
              "    </tr>\n",
              "    <tr>\n",
              "      <th>32</th>\n",
              "      <td>TCGA_CS_4944_20010208</td>\n",
              "      <td>TCGA_DU_7294_19890104/TCGA_DU_7294_19890104_1.tif</td>\n",
              "      <td>TCGA_DU_7294_19890104/TCGA_DU_7294_19890104_1_...</td>\n",
              "      <td>0</td>\n",
              "    </tr>\n",
              "    <tr>\n",
              "      <th>33</th>\n",
              "      <td>TCGA_CS_4944_20010208</td>\n",
              "      <td>TCGA_DU_7013_19860523/TCGA_DU_7013_19860523_1.tif</td>\n",
              "      <td>TCGA_DU_7013_19860523/TCGA_DU_7013_19860523_1_...</td>\n",
              "      <td>0</td>\n",
              "    </tr>\n",
              "    <tr>\n",
              "      <th>34</th>\n",
              "      <td>TCGA_CS_4944_20010208</td>\n",
              "      <td>TCGA_DU_7008_19830723/TCGA_DU_7008_19830723_1.tif</td>\n",
              "      <td>TCGA_DU_7008_19830723/TCGA_DU_7008_19830723_1_...</td>\n",
              "      <td>0</td>\n",
              "    </tr>\n",
              "    <tr>\n",
              "      <th>35</th>\n",
              "      <td>TCGA_CS_4944_20010208</td>\n",
              "      <td>TCGA_DU_8163_19961119/TCGA_DU_8163_19961119_1.tif</td>\n",
              "      <td>TCGA_DU_8163_19961119/TCGA_DU_8163_19961119_1_...</td>\n",
              "      <td>0</td>\n",
              "    </tr>\n",
              "    <tr>\n",
              "      <th>36</th>\n",
              "      <td>TCGA_CS_4944_20010208</td>\n",
              "      <td>TCGA_DU_7299_19910417/TCGA_DU_7299_19910417_1.tif</td>\n",
              "      <td>TCGA_DU_7299_19910417/TCGA_DU_7299_19910417_1_...</td>\n",
              "      <td>0</td>\n",
              "    </tr>\n",
              "    <tr>\n",
              "      <th>37</th>\n",
              "      <td>TCGA_CS_4944_20010208</td>\n",
              "      <td>TCGA_DU_7309_19960831/TCGA_DU_7309_19960831_1.tif</td>\n",
              "      <td>TCGA_DU_7309_19960831/TCGA_DU_7309_19960831_1_...</td>\n",
              "      <td>0</td>\n",
              "    </tr>\n",
              "    <tr>\n",
              "      <th>38</th>\n",
              "      <td>TCGA_CS_4944_20010208</td>\n",
              "      <td>TCGA_DU_8162_19961029/TCGA_DU_8162_19961029_1.tif</td>\n",
              "      <td>TCGA_DU_8162_19961029/TCGA_DU_8162_19961029_1_...</td>\n",
              "      <td>0</td>\n",
              "    </tr>\n",
              "    <tr>\n",
              "      <th>39</th>\n",
              "      <td>TCGA_CS_4944_20010208</td>\n",
              "      <td>TCGA_DU_7298_19910324/TCGA_DU_7298_19910324_1.tif</td>\n",
              "      <td>TCGA_DU_7298_19910324/TCGA_DU_7298_19910324_1_...</td>\n",
              "      <td>0</td>\n",
              "    </tr>\n",
              "    <tr>\n",
              "      <th>40</th>\n",
              "      <td>TCGA_CS_4941_19960909</td>\n",
              "      <td>TCGA_DU_7301_19911112/TCGA_DU_7301_19911112_1.tif</td>\n",
              "      <td>TCGA_DU_7301_19911112/TCGA_DU_7301_19911112_1_...</td>\n",
              "      <td>0</td>\n",
              "    </tr>\n",
              "    <tr>\n",
              "      <th>41</th>\n",
              "      <td>TCGA_CS_4941_19960909</td>\n",
              "      <td>TCGA_DU_7306_19930512/TCGA_DU_7306_19930512_1.tif</td>\n",
              "      <td>TCGA_DU_7306_19930512/TCGA_DU_7306_19930512_1_...</td>\n",
              "      <td>0</td>\n",
              "    </tr>\n",
              "    <tr>\n",
              "      <th>42</th>\n",
              "      <td>TCGA_CS_4941_19960909</td>\n",
              "      <td>TCGA_DU_7302_19911203/TCGA_DU_7302_19911203_1.tif</td>\n",
              "      <td>TCGA_DU_7302_19911203/TCGA_DU_7302_19911203_1_...</td>\n",
              "      <td>0</td>\n",
              "    </tr>\n",
              "    <tr>\n",
              "      <th>43</th>\n",
              "      <td>TCGA_CS_4941_19960909</td>\n",
              "      <td>TCGA_DU_A5TS_19970726/TCGA_DU_A5TS_19970726_1.tif</td>\n",
              "      <td>TCGA_DU_A5TS_19970726/TCGA_DU_A5TS_19970726_1_...</td>\n",
              "      <td>0</td>\n",
              "    </tr>\n",
              "    <tr>\n",
              "      <th>44</th>\n",
              "      <td>TCGA_CS_4941_19960909</td>\n",
              "      <td>TCGA_DU_A5TP_19970614/TCGA_DU_A5TP_19970614_1.tif</td>\n",
              "      <td>TCGA_DU_A5TP_19970614/TCGA_DU_A5TP_19970614_1_...</td>\n",
              "      <td>0</td>\n",
              "    </tr>\n",
              "    <tr>\n",
              "      <th>45</th>\n",
              "      <td>TCGA_CS_4941_19960909</td>\n",
              "      <td>TCGA_DU_8166_19970322/TCGA_DU_8166_19970322_1.tif</td>\n",
              "      <td>TCGA_DU_8166_19970322/TCGA_DU_8166_19970322_1_...</td>\n",
              "      <td>0</td>\n",
              "    </tr>\n",
              "    <tr>\n",
              "      <th>46</th>\n",
              "      <td>TCGA_CS_4941_19960909</td>\n",
              "      <td>TCGA_DU_8165_19970205/TCGA_DU_8165_19970205_1.tif</td>\n",
              "      <td>TCGA_DU_8165_19970205/TCGA_DU_8165_19970205_1_...</td>\n",
              "      <td>0</td>\n",
              "    </tr>\n",
              "    <tr>\n",
              "      <th>47</th>\n",
              "      <td>TCGA_CS_4941_19960909</td>\n",
              "      <td>TCGA_DU_A5TR_19970726/TCGA_DU_A5TR_19970726_1.tif</td>\n",
              "      <td>TCGA_DU_A5TR_19970726/TCGA_DU_A5TR_19970726_1_...</td>\n",
              "      <td>0</td>\n",
              "    </tr>\n",
              "    <tr>\n",
              "      <th>48</th>\n",
              "      <td>TCGA_CS_4941_19960909</td>\n",
              "      <td>TCGA_DU_A5TT_19980318/TCGA_DU_A5TT_19980318_1.tif</td>\n",
              "      <td>TCGA_DU_A5TT_19980318/TCGA_DU_A5TT_19980318_1_...</td>\n",
              "      <td>0</td>\n",
              "    </tr>\n",
              "    <tr>\n",
              "      <th>49</th>\n",
              "      <td>TCGA_CS_4941_19960909</td>\n",
              "      <td>TCGA_DU_A5TY_19970709/TCGA_DU_A5TY_19970709_1.tif</td>\n",
              "      <td>TCGA_DU_A5TY_19970709/TCGA_DU_A5TY_19970709_1_...</td>\n",
              "      <td>0</td>\n",
              "    </tr>\n",
              "  </tbody>\n",
              "</table>\n",
              "</div>"
            ],
            "text/plain": [
              "               patient_id  ... mask\n",
              "0   TCGA_CS_5395_19981004  ...    0\n",
              "1   TCGA_CS_5395_19981004  ...    0\n",
              "2   TCGA_CS_5395_19981004  ...    0\n",
              "3   TCGA_CS_5395_19981004  ...    0\n",
              "4   TCGA_CS_5395_19981004  ...    0\n",
              "5   TCGA_CS_5395_19981004  ...    0\n",
              "6   TCGA_CS_5395_19981004  ...    0\n",
              "7   TCGA_CS_5395_19981004  ...    0\n",
              "8   TCGA_CS_5395_19981004  ...    0\n",
              "9   TCGA_CS_5395_19981004  ...    0\n",
              "10  TCGA_CS_5395_19981004  ...    0\n",
              "11  TCGA_CS_5395_19981004  ...    0\n",
              "12  TCGA_CS_5395_19981004  ...    0\n",
              "13  TCGA_CS_5395_19981004  ...    0\n",
              "14  TCGA_CS_5395_19981004  ...    0\n",
              "15  TCGA_CS_5395_19981004  ...    0\n",
              "16  TCGA_CS_5395_19981004  ...    0\n",
              "17  TCGA_CS_5395_19981004  ...    0\n",
              "18  TCGA_CS_5395_19981004  ...    0\n",
              "19  TCGA_CS_5395_19981004  ...    0\n",
              "20  TCGA_CS_4944_20010208  ...    0\n",
              "21  TCGA_CS_4944_20010208  ...    0\n",
              "22  TCGA_CS_4944_20010208  ...    0\n",
              "23  TCGA_CS_4944_20010208  ...    0\n",
              "24  TCGA_CS_4944_20010208  ...    0\n",
              "25  TCGA_CS_4944_20010208  ...    0\n",
              "26  TCGA_CS_4944_20010208  ...    0\n",
              "27  TCGA_CS_4944_20010208  ...    0\n",
              "28  TCGA_CS_4944_20010208  ...    0\n",
              "29  TCGA_CS_4944_20010208  ...    0\n",
              "30  TCGA_CS_4944_20010208  ...    0\n",
              "31  TCGA_CS_4944_20010208  ...    0\n",
              "32  TCGA_CS_4944_20010208  ...    0\n",
              "33  TCGA_CS_4944_20010208  ...    0\n",
              "34  TCGA_CS_4944_20010208  ...    0\n",
              "35  TCGA_CS_4944_20010208  ...    0\n",
              "36  TCGA_CS_4944_20010208  ...    0\n",
              "37  TCGA_CS_4944_20010208  ...    0\n",
              "38  TCGA_CS_4944_20010208  ...    0\n",
              "39  TCGA_CS_4944_20010208  ...    0\n",
              "40  TCGA_CS_4941_19960909  ...    0\n",
              "41  TCGA_CS_4941_19960909  ...    0\n",
              "42  TCGA_CS_4941_19960909  ...    0\n",
              "43  TCGA_CS_4941_19960909  ...    0\n",
              "44  TCGA_CS_4941_19960909  ...    0\n",
              "45  TCGA_CS_4941_19960909  ...    0\n",
              "46  TCGA_CS_4941_19960909  ...    0\n",
              "47  TCGA_CS_4941_19960909  ...    0\n",
              "48  TCGA_CS_4941_19960909  ...    0\n",
              "49  TCGA_CS_4941_19960909  ...    0\n",
              "\n",
              "[50 rows x 4 columns]"
            ]
          },
          "metadata": {},
          "execution_count": 9
        }
      ]
    },
    {
      "cell_type": "code",
      "metadata": {
        "colab": {
          "base_uri": "https://localhost:8080/",
          "height": 35
        },
        "id": "530a387d",
        "outputId": "7d01a466-eb3e-4d19-f054-940f21e501e1"
      },
      "source": [
        "brain_df.mask_path[1] # Ruta a la imagen de la MRI"
      ],
      "id": "530a387d",
      "execution_count": null,
      "outputs": [
        {
          "output_type": "execute_result",
          "data": {
            "application/vnd.google.colaboratory.intrinsic+json": {
              "type": "string"
            },
            "text/plain": [
              "'TCGA_CS_4944_20010208/TCGA_CS_4944_20010208_1_mask.tif'"
            ]
          },
          "metadata": {},
          "execution_count": 10
        }
      ]
    },
    {
      "cell_type": "code",
      "metadata": {
        "colab": {
          "base_uri": "https://localhost:8080/",
          "height": 35
        },
        "id": "04e29e36",
        "outputId": "c7d34114-d81c-46e4-9ce6-f4b55b79b51b"
      },
      "source": [
        "brain_df.image_path[1] # Ruta a la imagen de segmentación"
      ],
      "id": "04e29e36",
      "execution_count": null,
      "outputs": [
        {
          "output_type": "execute_result",
          "data": {
            "application/vnd.google.colaboratory.intrinsic+json": {
              "type": "string"
            },
            "text/plain": [
              "'TCGA_CS_4944_20010208/TCGA_CS_4944_20010208_1.tif'"
            ]
          },
          "metadata": {},
          "execution_count": 11
        }
      ]
    },
    {
      "cell_type": "markdown",
      "metadata": {
        "id": "a965378f"
      },
      "source": [
        "MINI RETO #1:\n",
        "  - ¿Tenemos un dataset balanceado? \n",
        "  - ¿Cuantas muestras están marcadas como 'paciente sano'?"
      ],
      "id": "a965378f"
    },
    {
      "cell_type": "code",
      "metadata": {
        "colab": {
          "base_uri": "https://localhost:8080/"
        },
        "id": "0e1ee619",
        "outputId": "4e160c21-5ecb-4077-aead-b64c137a364f"
      },
      "source": [
        "brain_df['mask'].value_counts()"
      ],
      "id": "0e1ee619",
      "execution_count": null,
      "outputs": [
        {
          "output_type": "execute_result",
          "data": {
            "text/plain": [
              "0    2556\n",
              "1    1373\n",
              "Name: mask, dtype: int64"
            ]
          },
          "metadata": {},
          "execution_count": 12
        }
      ]
    },
    {
      "cell_type": "markdown",
      "metadata": {
        "id": "b0763a18"
      },
      "source": [
        "# 3: VISUALIZACIÓN DE DATOS"
      ],
      "id": "b0763a18"
    },
    {
      "cell_type": "code",
      "metadata": {
        "colab": {
          "base_uri": "https://localhost:8080/",
          "height": 439
        },
        "id": "abbcc619",
        "outputId": "6ae6a683-4656-45df-fd28-b285d3126b91"
      },
      "source": [
        "brain_df"
      ],
      "id": "abbcc619",
      "execution_count": null,
      "outputs": [
        {
          "output_type": "execute_result",
          "data": {
            "text/html": [
              "<div>\n",
              "<style scoped>\n",
              "    .dataframe tbody tr th:only-of-type {\n",
              "        vertical-align: middle;\n",
              "    }\n",
              "\n",
              "    .dataframe tbody tr th {\n",
              "        vertical-align: top;\n",
              "    }\n",
              "\n",
              "    .dataframe thead th {\n",
              "        text-align: right;\n",
              "    }\n",
              "</style>\n",
              "<table border=\"1\" class=\"dataframe\">\n",
              "  <thead>\n",
              "    <tr style=\"text-align: right;\">\n",
              "      <th></th>\n",
              "      <th>patient_id</th>\n",
              "      <th>image_path</th>\n",
              "      <th>mask_path</th>\n",
              "      <th>mask</th>\n",
              "    </tr>\n",
              "  </thead>\n",
              "  <tbody>\n",
              "    <tr>\n",
              "      <th>0</th>\n",
              "      <td>TCGA_CS_5395_19981004</td>\n",
              "      <td>TCGA_CS_5395_19981004/TCGA_CS_5395_19981004_1.tif</td>\n",
              "      <td>TCGA_CS_5395_19981004/TCGA_CS_5395_19981004_1_...</td>\n",
              "      <td>0</td>\n",
              "    </tr>\n",
              "    <tr>\n",
              "      <th>1</th>\n",
              "      <td>TCGA_CS_5395_19981004</td>\n",
              "      <td>TCGA_CS_4944_20010208/TCGA_CS_4944_20010208_1.tif</td>\n",
              "      <td>TCGA_CS_4944_20010208/TCGA_CS_4944_20010208_1_...</td>\n",
              "      <td>0</td>\n",
              "    </tr>\n",
              "    <tr>\n",
              "      <th>2</th>\n",
              "      <td>TCGA_CS_5395_19981004</td>\n",
              "      <td>TCGA_CS_4941_19960909/TCGA_CS_4941_19960909_1.tif</td>\n",
              "      <td>TCGA_CS_4941_19960909/TCGA_CS_4941_19960909_1_...</td>\n",
              "      <td>0</td>\n",
              "    </tr>\n",
              "    <tr>\n",
              "      <th>3</th>\n",
              "      <td>TCGA_CS_5395_19981004</td>\n",
              "      <td>TCGA_CS_4943_20000902/TCGA_CS_4943_20000902_1.tif</td>\n",
              "      <td>TCGA_CS_4943_20000902/TCGA_CS_4943_20000902_1_...</td>\n",
              "      <td>0</td>\n",
              "    </tr>\n",
              "    <tr>\n",
              "      <th>4</th>\n",
              "      <td>TCGA_CS_5395_19981004</td>\n",
              "      <td>TCGA_CS_5396_20010302/TCGA_CS_5396_20010302_1.tif</td>\n",
              "      <td>TCGA_CS_5396_20010302/TCGA_CS_5396_20010302_1_...</td>\n",
              "      <td>0</td>\n",
              "    </tr>\n",
              "    <tr>\n",
              "      <th>...</th>\n",
              "      <td>...</td>\n",
              "      <td>...</td>\n",
              "      <td>...</td>\n",
              "      <td>...</td>\n",
              "    </tr>\n",
              "    <tr>\n",
              "      <th>3924</th>\n",
              "      <td>TCGA_DU_6401_19831001</td>\n",
              "      <td>TCGA_HT_A61B_19991127/TCGA_HT_A61B_19991127_86...</td>\n",
              "      <td>TCGA_HT_A61B_19991127/TCGA_HT_A61B_19991127_86...</td>\n",
              "      <td>0</td>\n",
              "    </tr>\n",
              "    <tr>\n",
              "      <th>3925</th>\n",
              "      <td>TCGA_DU_6401_19831001</td>\n",
              "      <td>TCGA_HT_A61A_20000127/TCGA_HT_A61A_20000127_87...</td>\n",
              "      <td>TCGA_HT_A61A_20000127/TCGA_HT_A61A_20000127_87...</td>\n",
              "      <td>0</td>\n",
              "    </tr>\n",
              "    <tr>\n",
              "      <th>3926</th>\n",
              "      <td>TCGA_DU_6401_19831001</td>\n",
              "      <td>TCGA_HT_A61B_19991127/TCGA_HT_A61B_19991127_87...</td>\n",
              "      <td>TCGA_HT_A61B_19991127/TCGA_HT_A61B_19991127_87...</td>\n",
              "      <td>0</td>\n",
              "    </tr>\n",
              "    <tr>\n",
              "      <th>3927</th>\n",
              "      <td>TCGA_DU_6401_19831001</td>\n",
              "      <td>TCGA_HT_A61A_20000127/TCGA_HT_A61A_20000127_88...</td>\n",
              "      <td>TCGA_HT_A61A_20000127/TCGA_HT_A61A_20000127_88...</td>\n",
              "      <td>0</td>\n",
              "    </tr>\n",
              "    <tr>\n",
              "      <th>3928</th>\n",
              "      <td>TCGA_DU_6401_19831001</td>\n",
              "      <td>TCGA_HT_A61B_19991127/TCGA_HT_A61B_19991127_88...</td>\n",
              "      <td>TCGA_HT_A61B_19991127/TCGA_HT_A61B_19991127_88...</td>\n",
              "      <td>0</td>\n",
              "    </tr>\n",
              "  </tbody>\n",
              "</table>\n",
              "<p>3929 rows × 4 columns</p>\n",
              "</div>"
            ],
            "text/plain": [
              "                 patient_id  ... mask\n",
              "0     TCGA_CS_5395_19981004  ...    0\n",
              "1     TCGA_CS_5395_19981004  ...    0\n",
              "2     TCGA_CS_5395_19981004  ...    0\n",
              "3     TCGA_CS_5395_19981004  ...    0\n",
              "4     TCGA_CS_5395_19981004  ...    0\n",
              "...                     ...  ...  ...\n",
              "3924  TCGA_DU_6401_19831001  ...    0\n",
              "3925  TCGA_DU_6401_19831001  ...    0\n",
              "3926  TCGA_DU_6401_19831001  ...    0\n",
              "3927  TCGA_DU_6401_19831001  ...    0\n",
              "3928  TCGA_DU_6401_19831001  ...    0\n",
              "\n",
              "[3929 rows x 4 columns]"
            ]
          },
          "metadata": {},
          "execution_count": 13
        }
      ]
    },
    {
      "cell_type": "code",
      "metadata": {
        "colab": {
          "base_uri": "https://localhost:8080/"
        },
        "id": "f2f8d694",
        "outputId": "8b051ca9-0233-4c71-d6b4-0f32ca3f160c"
      },
      "source": [
        "brain_df['mask'].value_counts().index"
      ],
      "id": "f2f8d694",
      "execution_count": null,
      "outputs": [
        {
          "output_type": "execute_result",
          "data": {
            "text/plain": [
              "Int64Index([0, 1], dtype='int64')"
            ]
          },
          "metadata": {},
          "execution_count": 14
        }
      ]
    },
    {
      "cell_type": "code",
      "metadata": {
        "id": "aaabb69c"
      },
      "source": [
        "# Vamos a usar Plotly para hacer un diagrama de barras interactivo\n",
        "import plotly.graph_objects as go\n",
        "\n",
        "fig = "
      ],
      "id": "aaabb69c",
      "execution_count": null,
      "outputs": []
    }
  ]
}