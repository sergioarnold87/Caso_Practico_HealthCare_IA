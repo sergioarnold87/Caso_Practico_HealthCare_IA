{
  "nbformat": 4,
  "nbformat_minor": 5,
  "metadata": {
    "kernelspec": {
      "display_name": "Python 3 (ipykernel)",
      "language": "python",
      "name": "python3"
    },
    "language_info": {
      "codemirror_mode": {
        "name": "ipython",
        "version": 3
      },
      "file_extension": ".py",
      "mimetype": "text/x-python",
      "name": "python",
      "nbconvert_exporter": "python",
      "pygments_lexer": "ipython3",
      "version": "3.8.5"
    },
    "colab": {
      "name": "Copy of HealthCare_Sergio.ipynb",
      "provenance": [],
      "collapsed_sections": [],
      "include_colab_link": true
    }
  },
  "cells": [
    {
      "cell_type": "markdown",
      "metadata": {
        "id": "view-in-github",
        "colab_type": "text"
      },
      "source": [
        "<a href=\"https://colab.research.google.com/github/sergioarnold87/Caso_Practico_HealthCare_IA/blob/main/HealthCare_Sergio.ipynb\" target=\"_parent\"><img src=\"https://colab.research.google.com/assets/colab-badge.svg\" alt=\"Open In Colab\"/></a>"
      ]
    },
    {
      "cell_type": "markdown",
      "metadata": {
        "id": "08e35866"
      },
      "source": [
        "# 1  Entender el enunciado del problema y el caso práctico"
      ],
      "id": "08e35866"
    },
    {
      "cell_type": "markdown",
      "metadata": {
        "id": "ed0d5d9b"
      },
      "source": [
        "![alt text](https://drive.google.com/uc?id=1GAWfaucw0yYWOvVFHCvPUAIe87sqRxAd)"
      ],
      "id": "ed0d5d9b"
    },
    {
      "cell_type": "markdown",
      "metadata": {
        "id": "734a5ab4"
      },
      "source": [
        "![alt text](https://drive.google.com/uc?id=1mR5yqG3DTryYlUELiGKn4GBaSmEZng_-)"
      ],
      "id": "734a5ab4"
    },
    {
      "cell_type": "markdown",
      "metadata": {
        "id": "4d24cc99"
      },
      "source": [
        "![alt text](https://drive.google.com/uc?id=15G1y2Cs6nHtdM25gfwjyKDpGwVr7A10_)"
      ],
      "id": "4d24cc99"
    },
    {
      "cell_type": "markdown",
      "metadata": {
        "id": "2e99f5c2"
      },
      "source": [
        "- Fuente original: https://www.kaggle.com/mateuszbuda/lgg-mri-segmentation\n",
        "- Clickable link for the full list of startups in AI medical imagery: https://research.aimultiple.com/looking-for-better-medical-imaging-for-early-diagnostic-and-monitoring-contact-the-leading-vendors-here/"
      ],
      "id": "2e99f5c2"
    },
    {
      "cell_type": "markdown",
      "metadata": {
        "id": "f7d499a2"
      },
      "source": [
        "![alt text](https://drive.google.com/uc?id=1aq_9XV_rX7DCNXPGMkMh8QLRnMmdDcD_)"
      ],
      "id": "f7d499a2"
    },
    {
      "cell_type": "markdown",
      "metadata": {
        "id": "771b42d1"
      },
      "source": [
        "![alt text](https://drive.google.com/uc?id=1CMPW0u1Lq5aNrJX3uffBIrLAoPOtUTtE)"
      ],
      "id": "771b42d1"
    },
    {
      "cell_type": "markdown",
      "metadata": {
        "id": "a2bac417"
      },
      "source": [
        "![alt text](https://drive.google.com/uc?id=1uP9hs79W-1yTLVbEKdLMdi7Bb4c1HN9P)"
      ],
      "id": "a2bac417"
    },
    {
      "cell_type": "markdown",
      "metadata": {
        "id": "82805127"
      },
      "source": [
        "# 2: IMPORTAR LIBRERÍAS Y DATASETS"
      ],
      "id": "82805127"
    },
    {
      "cell_type": "code",
      "metadata": {
        "id": "e9ad6a9f"
      },
      "source": [
        "import pandas as pd\n",
        "import numpy as np\n",
        "import seaborn as sns\n",
        "import matplotlib.pyplot as plt\n",
        "import zipfile\n",
        "import cv2\n",
        "from skimage import io\n",
        "import tensorflow as tf\n",
        "from tensorflow.python.keras import Sequential\n",
        "from tensorflow.keras import layers, optimizers\n",
        "from tensorflow.keras.applications import DenseNet121\n",
        "from tensorflow.keras.applications.resnet50 import ResNet50\n",
        "from tensorflow.keras.layers import *\n",
        "from tensorflow.keras.models import Model, load_model\n",
        "from tensorflow.keras.initializers import glorot_uniform\n",
        "from tensorflow.keras.utils import plot_model\n",
        "from tensorflow.keras.callbacks import ReduceLROnPlateau, EarlyStopping, ModelCheckpoint, LearningRateScheduler\n",
        "from IPython.display import display\n",
        "from tensorflow.keras import backend as K\n",
        "from sklearn.preprocessing import StandardScaler, normalize\n",
        "import os\n",
        "import glob\n",
        "import random\n",
        "from google.colab import files #Librería para cargar ficheros directamente en Colab\n",
        "%matplotlib inline"
      ],
      "id": "e9ad6a9f",
      "execution_count": 1,
      "outputs": []
    },
    {
      "cell_type": "code",
      "metadata": {
        "colab": {
          "base_uri": "https://localhost:8080/"
        },
        "id": "5c3d4acc",
        "outputId": "e260c687-0d8c-489f-c016-fa6973c34a59"
      },
      "source": [
        "# Necesitaremos montar su disco usando los siguientes comandos:\n",
        "# Para obtener más información sobre el montaje, puedes consultar: https://stackoverflow.com/questions/46986398/import-data-into-google-colaboratory\n",
        "\n",
        "from google.colab import drive\n",
        "drive.mount('/content/drive')"
      ],
      "id": "5c3d4acc",
      "execution_count": 2,
      "outputs": [
        {
          "output_type": "stream",
          "name": "stdout",
          "text": [
            "Mounted at /content/drive\n"
          ]
        }
      ]
    },
    {
      "cell_type": "code",
      "metadata": {
        "colab": {
          "base_uri": "https://localhost:8080/"
        },
        "id": "p0UARIoKa_3q",
        "outputId": "9201f634-8667-4dbc-f888-edafe65c6dc8"
      },
      "source": [
        "from google.colab import drive\n",
        "drive.mount('/content/drive')"
      ],
      "id": "p0UARIoKa_3q",
      "execution_count": 3,
      "outputs": [
        {
          "output_type": "stream",
          "name": "stdout",
          "text": [
            "Drive already mounted at /content/drive; to attempt to forcibly remount, call drive.mount(\"/content/drive\", force_remount=True).\n"
          ]
        }
      ]
    },
    {
      "cell_type": "code",
      "metadata": {
        "colab": {
          "base_uri": "https://localhost:8080/"
        },
        "id": "56100cd7",
        "outputId": "cfc06435-9b07-443d-ec7c-3d825f4fec8a"
      },
      "source": [
        "# Navegamos hasta el directorio My Drive para almacenar el conjunto de datos y herramientas adicionales\n",
        "%cd /content/drive/MyDrive/Healthcare+AI+Datasets/Brain_MRI\n"
      ],
      "id": "56100cd7",
      "execution_count": 4,
      "outputs": [
        {
          "output_type": "stream",
          "name": "stdout",
          "text": [
            "/content/drive/MyDrive/Healthcare+AI+Datasets/Brain_MRI\n"
          ]
        }
      ]
    },
    {
      "cell_type": "code",
      "metadata": {
        "id": "ec4e854d"
      },
      "source": [
        "# Datos que contienen la ruta a Brain MRI y su máscara correspondiente\n",
        "brain_df = pd.read_csv('data_mask.csv')"
      ],
      "id": "ec4e854d",
      "execution_count": 5,
      "outputs": []
    },
    {
      "cell_type": "markdown",
      "metadata": {
        "id": "d656b27b"
      },
      "source": [
        "![alt text](https://drive.google.com/uc?id=1UhYwK8wILbDn2DhXExrpZz_i5oXTbIp6)"
      ],
      "id": "d656b27b"
    },
    {
      "cell_type": "code",
      "metadata": {
        "colab": {
          "base_uri": "https://localhost:8080/"
        },
        "id": "6795f10f",
        "outputId": "00080a4b-7a62-4314-d382-fc3442544789"
      },
      "source": [
        "brain_df.info()"
      ],
      "id": "6795f10f",
      "execution_count": 6,
      "outputs": [
        {
          "output_type": "stream",
          "name": "stdout",
          "text": [
            "<class 'pandas.core.frame.DataFrame'>\n",
            "RangeIndex: 3929 entries, 0 to 3928\n",
            "Data columns (total 4 columns):\n",
            " #   Column      Non-Null Count  Dtype \n",
            "---  ------      --------------  ----- \n",
            " 0   patient_id  3929 non-null   object\n",
            " 1   image_path  3929 non-null   object\n",
            " 2   mask_path   3929 non-null   object\n",
            " 3   mask        3929 non-null   int64 \n",
            "dtypes: int64(1), object(3)\n",
            "memory usage: 122.9+ KB\n"
          ]
        }
      ]
    },
    {
      "cell_type": "code",
      "metadata": {
        "colab": {
          "base_uri": "https://localhost:8080/",
          "height": 1000
        },
        "id": "bc8e1116",
        "outputId": "291fe169-55fd-4206-fa1c-08c822da5390"
      },
      "source": [
        "brain_df.head(50)"
      ],
      "id": "bc8e1116",
      "execution_count": 7,
      "outputs": [
        {
          "output_type": "execute_result",
          "data": {
            "text/html": [
              "<div>\n",
              "<style scoped>\n",
              "    .dataframe tbody tr th:only-of-type {\n",
              "        vertical-align: middle;\n",
              "    }\n",
              "\n",
              "    .dataframe tbody tr th {\n",
              "        vertical-align: top;\n",
              "    }\n",
              "\n",
              "    .dataframe thead th {\n",
              "        text-align: right;\n",
              "    }\n",
              "</style>\n",
              "<table border=\"1\" class=\"dataframe\">\n",
              "  <thead>\n",
              "    <tr style=\"text-align: right;\">\n",
              "      <th></th>\n",
              "      <th>patient_id</th>\n",
              "      <th>image_path</th>\n",
              "      <th>mask_path</th>\n",
              "      <th>mask</th>\n",
              "    </tr>\n",
              "  </thead>\n",
              "  <tbody>\n",
              "    <tr>\n",
              "      <th>0</th>\n",
              "      <td>TCGA_CS_5395_19981004</td>\n",
              "      <td>TCGA_CS_5395_19981004/TCGA_CS_5395_19981004_1.tif</td>\n",
              "      <td>TCGA_CS_5395_19981004/TCGA_CS_5395_19981004_1_...</td>\n",
              "      <td>0</td>\n",
              "    </tr>\n",
              "    <tr>\n",
              "      <th>1</th>\n",
              "      <td>TCGA_CS_5395_19981004</td>\n",
              "      <td>TCGA_CS_4944_20010208/TCGA_CS_4944_20010208_1.tif</td>\n",
              "      <td>TCGA_CS_4944_20010208/TCGA_CS_4944_20010208_1_...</td>\n",
              "      <td>0</td>\n",
              "    </tr>\n",
              "    <tr>\n",
              "      <th>2</th>\n",
              "      <td>TCGA_CS_5395_19981004</td>\n",
              "      <td>TCGA_CS_4941_19960909/TCGA_CS_4941_19960909_1.tif</td>\n",
              "      <td>TCGA_CS_4941_19960909/TCGA_CS_4941_19960909_1_...</td>\n",
              "      <td>0</td>\n",
              "    </tr>\n",
              "    <tr>\n",
              "      <th>3</th>\n",
              "      <td>TCGA_CS_5395_19981004</td>\n",
              "      <td>TCGA_CS_4943_20000902/TCGA_CS_4943_20000902_1.tif</td>\n",
              "      <td>TCGA_CS_4943_20000902/TCGA_CS_4943_20000902_1_...</td>\n",
              "      <td>0</td>\n",
              "    </tr>\n",
              "    <tr>\n",
              "      <th>4</th>\n",
              "      <td>TCGA_CS_5395_19981004</td>\n",
              "      <td>TCGA_CS_5396_20010302/TCGA_CS_5396_20010302_1.tif</td>\n",
              "      <td>TCGA_CS_5396_20010302/TCGA_CS_5396_20010302_1_...</td>\n",
              "      <td>0</td>\n",
              "    </tr>\n",
              "    <tr>\n",
              "      <th>5</th>\n",
              "      <td>TCGA_CS_5395_19981004</td>\n",
              "      <td>TCGA_CS_5393_19990606/TCGA_CS_5393_19990606_1.tif</td>\n",
              "      <td>TCGA_CS_5393_19990606/TCGA_CS_5393_19990606_1_...</td>\n",
              "      <td>0</td>\n",
              "    </tr>\n",
              "    <tr>\n",
              "      <th>6</th>\n",
              "      <td>TCGA_CS_5395_19981004</td>\n",
              "      <td>TCGA_CS_4942_19970222/TCGA_CS_4942_19970222_1.tif</td>\n",
              "      <td>TCGA_CS_4942_19970222/TCGA_CS_4942_19970222_1_...</td>\n",
              "      <td>0</td>\n",
              "    </tr>\n",
              "    <tr>\n",
              "      <th>7</th>\n",
              "      <td>TCGA_CS_5395_19981004</td>\n",
              "      <td>TCGA_CS_5397_20010315/TCGA_CS_5397_20010315_1.tif</td>\n",
              "      <td>TCGA_CS_5397_20010315/TCGA_CS_5397_20010315_1_...</td>\n",
              "      <td>0</td>\n",
              "    </tr>\n",
              "    <tr>\n",
              "      <th>8</th>\n",
              "      <td>TCGA_CS_5395_19981004</td>\n",
              "      <td>TCGA_CS_6188_20010812/TCGA_CS_6188_20010812_1.tif</td>\n",
              "      <td>TCGA_CS_6188_20010812/TCGA_CS_6188_20010812_1_...</td>\n",
              "      <td>0</td>\n",
              "    </tr>\n",
              "    <tr>\n",
              "      <th>9</th>\n",
              "      <td>TCGA_CS_5395_19981004</td>\n",
              "      <td>TCGA_CS_6666_20011109/TCGA_CS_6666_20011109_1.tif</td>\n",
              "      <td>TCGA_CS_6666_20011109/TCGA_CS_6666_20011109_1_...</td>\n",
              "      <td>0</td>\n",
              "    </tr>\n",
              "    <tr>\n",
              "      <th>10</th>\n",
              "      <td>TCGA_CS_5395_19981004</td>\n",
              "      <td>TCGA_CS_6669_20020102/TCGA_CS_6669_20020102_1.tif</td>\n",
              "      <td>TCGA_CS_6669_20020102/TCGA_CS_6669_20020102_1_...</td>\n",
              "      <td>0</td>\n",
              "    </tr>\n",
              "    <tr>\n",
              "      <th>11</th>\n",
              "      <td>TCGA_CS_5395_19981004</td>\n",
              "      <td>TCGA_CS_6186_20000601/TCGA_CS_6186_20000601_1.tif</td>\n",
              "      <td>TCGA_CS_6186_20000601/TCGA_CS_6186_20000601_1_...</td>\n",
              "      <td>0</td>\n",
              "    </tr>\n",
              "    <tr>\n",
              "      <th>12</th>\n",
              "      <td>TCGA_CS_5395_19981004</td>\n",
              "      <td>TCGA_DU_5851_19950428/TCGA_DU_5851_19950428_1.tif</td>\n",
              "      <td>TCGA_DU_5851_19950428/TCGA_DU_5851_19950428_1_...</td>\n",
              "      <td>0</td>\n",
              "    </tr>\n",
              "    <tr>\n",
              "      <th>13</th>\n",
              "      <td>TCGA_CS_5395_19981004</td>\n",
              "      <td>TCGA_CS_6665_20010817/TCGA_CS_6665_20010817_1.tif</td>\n",
              "      <td>TCGA_CS_6665_20010817/TCGA_CS_6665_20010817_1_...</td>\n",
              "      <td>0</td>\n",
              "    </tr>\n",
              "    <tr>\n",
              "      <th>14</th>\n",
              "      <td>TCGA_CS_5395_19981004</td>\n",
              "      <td>TCGA_CS_6668_20011025/TCGA_CS_6668_20011025_1.tif</td>\n",
              "      <td>TCGA_CS_6668_20011025/TCGA_CS_6668_20011025_1_...</td>\n",
              "      <td>0</td>\n",
              "    </tr>\n",
              "    <tr>\n",
              "      <th>15</th>\n",
              "      <td>TCGA_CS_5395_19981004</td>\n",
              "      <td>TCGA_DU_5849_19950405/TCGA_DU_5849_19950405_1.tif</td>\n",
              "      <td>TCGA_DU_5849_19950405/TCGA_DU_5849_19950405_1_...</td>\n",
              "      <td>0</td>\n",
              "    </tr>\n",
              "    <tr>\n",
              "      <th>16</th>\n",
              "      <td>TCGA_CS_5395_19981004</td>\n",
              "      <td>TCGA_CS_6290_20000917/TCGA_CS_6290_20000917_1.tif</td>\n",
              "      <td>TCGA_CS_6290_20000917/TCGA_CS_6290_20000917_1_...</td>\n",
              "      <td>0</td>\n",
              "    </tr>\n",
              "    <tr>\n",
              "      <th>17</th>\n",
              "      <td>TCGA_CS_5395_19981004</td>\n",
              "      <td>TCGA_DU_5872_19950223/TCGA_DU_5872_19950223_1.tif</td>\n",
              "      <td>TCGA_DU_5872_19950223/TCGA_DU_5872_19950223_1_...</td>\n",
              "      <td>0</td>\n",
              "    </tr>\n",
              "    <tr>\n",
              "      <th>18</th>\n",
              "      <td>TCGA_CS_5395_19981004</td>\n",
              "      <td>TCGA_DU_5874_19950510/TCGA_DU_5874_19950510_1.tif</td>\n",
              "      <td>TCGA_DU_5874_19950510/TCGA_DU_5874_19950510_1_...</td>\n",
              "      <td>0</td>\n",
              "    </tr>\n",
              "    <tr>\n",
              "      <th>19</th>\n",
              "      <td>TCGA_CS_5395_19981004</td>\n",
              "      <td>TCGA_DU_5855_19951217/TCGA_DU_5855_19951217_1.tif</td>\n",
              "      <td>TCGA_DU_5855_19951217/TCGA_DU_5855_19951217_1_...</td>\n",
              "      <td>0</td>\n",
              "    </tr>\n",
              "    <tr>\n",
              "      <th>20</th>\n",
              "      <td>TCGA_CS_4944_20010208</td>\n",
              "      <td>TCGA_DU_5854_19951104/TCGA_DU_5854_19951104_1.tif</td>\n",
              "      <td>TCGA_DU_5854_19951104/TCGA_DU_5854_19951104_1_...</td>\n",
              "      <td>0</td>\n",
              "    </tr>\n",
              "    <tr>\n",
              "      <th>21</th>\n",
              "      <td>TCGA_CS_4944_20010208</td>\n",
              "      <td>TCGA_DU_5853_19950823/TCGA_DU_5853_19950823_1.tif</td>\n",
              "      <td>TCGA_DU_5853_19950823/TCGA_DU_5853_19950823_1_...</td>\n",
              "      <td>0</td>\n",
              "    </tr>\n",
              "    <tr>\n",
              "      <th>22</th>\n",
              "      <td>TCGA_CS_4944_20010208</td>\n",
              "      <td>TCGA_DU_5852_19950709/TCGA_DU_5852_19950709_1.tif</td>\n",
              "      <td>TCGA_DU_5852_19950709/TCGA_DU_5852_19950709_1_...</td>\n",
              "      <td>0</td>\n",
              "    </tr>\n",
              "    <tr>\n",
              "      <th>23</th>\n",
              "      <td>TCGA_CS_4944_20010208</td>\n",
              "      <td>TCGA_DU_6399_19830416/TCGA_DU_6399_19830416_1.tif</td>\n",
              "      <td>TCGA_DU_6399_19830416/TCGA_DU_6399_19830416_1_...</td>\n",
              "      <td>0</td>\n",
              "    </tr>\n",
              "    <tr>\n",
              "      <th>24</th>\n",
              "      <td>TCGA_CS_4944_20010208</td>\n",
              "      <td>TCGA_DU_6400_19830518/TCGA_DU_6400_19830518_1.tif</td>\n",
              "      <td>TCGA_DU_6400_19830518/TCGA_DU_6400_19830518_1_...</td>\n",
              "      <td>0</td>\n",
              "    </tr>\n",
              "    <tr>\n",
              "      <th>25</th>\n",
              "      <td>TCGA_CS_4944_20010208</td>\n",
              "      <td>TCGA_DU_6404_19850629/TCGA_DU_6404_19850629_1.tif</td>\n",
              "      <td>TCGA_DU_6404_19850629/TCGA_DU_6404_19850629_1_...</td>\n",
              "      <td>0</td>\n",
              "    </tr>\n",
              "    <tr>\n",
              "      <th>26</th>\n",
              "      <td>TCGA_CS_4944_20010208</td>\n",
              "      <td>TCGA_DU_6407_19860514/TCGA_DU_6407_19860514_1.tif</td>\n",
              "      <td>TCGA_DU_6407_19860514/TCGA_DU_6407_19860514_1_...</td>\n",
              "      <td>0</td>\n",
              "    </tr>\n",
              "    <tr>\n",
              "      <th>27</th>\n",
              "      <td>TCGA_CS_4944_20010208</td>\n",
              "      <td>TCGA_DU_6408_19860521/TCGA_DU_6408_19860521_1.tif</td>\n",
              "      <td>TCGA_DU_6408_19860521/TCGA_DU_6408_19860521_1_...</td>\n",
              "      <td>0</td>\n",
              "    </tr>\n",
              "    <tr>\n",
              "      <th>28</th>\n",
              "      <td>TCGA_CS_4944_20010208</td>\n",
              "      <td>TCGA_DU_6405_19851005/TCGA_DU_6405_19851005_1.tif</td>\n",
              "      <td>TCGA_DU_6405_19851005/TCGA_DU_6405_19851005_1_...</td>\n",
              "      <td>0</td>\n",
              "    </tr>\n",
              "    <tr>\n",
              "      <th>29</th>\n",
              "      <td>TCGA_CS_4944_20010208</td>\n",
              "      <td>TCGA_DU_7018_19911220/TCGA_DU_7018_19911220_1.tif</td>\n",
              "      <td>TCGA_DU_7018_19911220/TCGA_DU_7018_19911220_1_...</td>\n",
              "      <td>0</td>\n",
              "    </tr>\n",
              "    <tr>\n",
              "      <th>30</th>\n",
              "      <td>TCGA_CS_4944_20010208</td>\n",
              "      <td>TCGA_DU_7019_19940908/TCGA_DU_7019_19940908_1.tif</td>\n",
              "      <td>TCGA_DU_7019_19940908/TCGA_DU_7019_19940908_1_...</td>\n",
              "      <td>0</td>\n",
              "    </tr>\n",
              "    <tr>\n",
              "      <th>31</th>\n",
              "      <td>TCGA_CS_4944_20010208</td>\n",
              "      <td>TCGA_DU_7014_19860618/TCGA_DU_7014_19860618_1.tif</td>\n",
              "      <td>TCGA_DU_7014_19860618/TCGA_DU_7014_19860618_1_...</td>\n",
              "      <td>0</td>\n",
              "    </tr>\n",
              "    <tr>\n",
              "      <th>32</th>\n",
              "      <td>TCGA_CS_4944_20010208</td>\n",
              "      <td>TCGA_DU_7294_19890104/TCGA_DU_7294_19890104_1.tif</td>\n",
              "      <td>TCGA_DU_7294_19890104/TCGA_DU_7294_19890104_1_...</td>\n",
              "      <td>0</td>\n",
              "    </tr>\n",
              "    <tr>\n",
              "      <th>33</th>\n",
              "      <td>TCGA_CS_4944_20010208</td>\n",
              "      <td>TCGA_DU_7013_19860523/TCGA_DU_7013_19860523_1.tif</td>\n",
              "      <td>TCGA_DU_7013_19860523/TCGA_DU_7013_19860523_1_...</td>\n",
              "      <td>0</td>\n",
              "    </tr>\n",
              "    <tr>\n",
              "      <th>34</th>\n",
              "      <td>TCGA_CS_4944_20010208</td>\n",
              "      <td>TCGA_DU_7008_19830723/TCGA_DU_7008_19830723_1.tif</td>\n",
              "      <td>TCGA_DU_7008_19830723/TCGA_DU_7008_19830723_1_...</td>\n",
              "      <td>0</td>\n",
              "    </tr>\n",
              "    <tr>\n",
              "      <th>35</th>\n",
              "      <td>TCGA_CS_4944_20010208</td>\n",
              "      <td>TCGA_DU_8163_19961119/TCGA_DU_8163_19961119_1.tif</td>\n",
              "      <td>TCGA_DU_8163_19961119/TCGA_DU_8163_19961119_1_...</td>\n",
              "      <td>0</td>\n",
              "    </tr>\n",
              "    <tr>\n",
              "      <th>36</th>\n",
              "      <td>TCGA_CS_4944_20010208</td>\n",
              "      <td>TCGA_DU_7299_19910417/TCGA_DU_7299_19910417_1.tif</td>\n",
              "      <td>TCGA_DU_7299_19910417/TCGA_DU_7299_19910417_1_...</td>\n",
              "      <td>0</td>\n",
              "    </tr>\n",
              "    <tr>\n",
              "      <th>37</th>\n",
              "      <td>TCGA_CS_4944_20010208</td>\n",
              "      <td>TCGA_DU_7309_19960831/TCGA_DU_7309_19960831_1.tif</td>\n",
              "      <td>TCGA_DU_7309_19960831/TCGA_DU_7309_19960831_1_...</td>\n",
              "      <td>0</td>\n",
              "    </tr>\n",
              "    <tr>\n",
              "      <th>38</th>\n",
              "      <td>TCGA_CS_4944_20010208</td>\n",
              "      <td>TCGA_DU_8162_19961029/TCGA_DU_8162_19961029_1.tif</td>\n",
              "      <td>TCGA_DU_8162_19961029/TCGA_DU_8162_19961029_1_...</td>\n",
              "      <td>0</td>\n",
              "    </tr>\n",
              "    <tr>\n",
              "      <th>39</th>\n",
              "      <td>TCGA_CS_4944_20010208</td>\n",
              "      <td>TCGA_DU_7298_19910324/TCGA_DU_7298_19910324_1.tif</td>\n",
              "      <td>TCGA_DU_7298_19910324/TCGA_DU_7298_19910324_1_...</td>\n",
              "      <td>0</td>\n",
              "    </tr>\n",
              "    <tr>\n",
              "      <th>40</th>\n",
              "      <td>TCGA_CS_4941_19960909</td>\n",
              "      <td>TCGA_DU_7301_19911112/TCGA_DU_7301_19911112_1.tif</td>\n",
              "      <td>TCGA_DU_7301_19911112/TCGA_DU_7301_19911112_1_...</td>\n",
              "      <td>0</td>\n",
              "    </tr>\n",
              "    <tr>\n",
              "      <th>41</th>\n",
              "      <td>TCGA_CS_4941_19960909</td>\n",
              "      <td>TCGA_DU_7306_19930512/TCGA_DU_7306_19930512_1.tif</td>\n",
              "      <td>TCGA_DU_7306_19930512/TCGA_DU_7306_19930512_1_...</td>\n",
              "      <td>0</td>\n",
              "    </tr>\n",
              "    <tr>\n",
              "      <th>42</th>\n",
              "      <td>TCGA_CS_4941_19960909</td>\n",
              "      <td>TCGA_DU_7302_19911203/TCGA_DU_7302_19911203_1.tif</td>\n",
              "      <td>TCGA_DU_7302_19911203/TCGA_DU_7302_19911203_1_...</td>\n",
              "      <td>0</td>\n",
              "    </tr>\n",
              "    <tr>\n",
              "      <th>43</th>\n",
              "      <td>TCGA_CS_4941_19960909</td>\n",
              "      <td>TCGA_DU_A5TS_19970726/TCGA_DU_A5TS_19970726_1.tif</td>\n",
              "      <td>TCGA_DU_A5TS_19970726/TCGA_DU_A5TS_19970726_1_...</td>\n",
              "      <td>0</td>\n",
              "    </tr>\n",
              "    <tr>\n",
              "      <th>44</th>\n",
              "      <td>TCGA_CS_4941_19960909</td>\n",
              "      <td>TCGA_DU_A5TP_19970614/TCGA_DU_A5TP_19970614_1.tif</td>\n",
              "      <td>TCGA_DU_A5TP_19970614/TCGA_DU_A5TP_19970614_1_...</td>\n",
              "      <td>0</td>\n",
              "    </tr>\n",
              "    <tr>\n",
              "      <th>45</th>\n",
              "      <td>TCGA_CS_4941_19960909</td>\n",
              "      <td>TCGA_DU_8166_19970322/TCGA_DU_8166_19970322_1.tif</td>\n",
              "      <td>TCGA_DU_8166_19970322/TCGA_DU_8166_19970322_1_...</td>\n",
              "      <td>0</td>\n",
              "    </tr>\n",
              "    <tr>\n",
              "      <th>46</th>\n",
              "      <td>TCGA_CS_4941_19960909</td>\n",
              "      <td>TCGA_DU_8165_19970205/TCGA_DU_8165_19970205_1.tif</td>\n",
              "      <td>TCGA_DU_8165_19970205/TCGA_DU_8165_19970205_1_...</td>\n",
              "      <td>0</td>\n",
              "    </tr>\n",
              "    <tr>\n",
              "      <th>47</th>\n",
              "      <td>TCGA_CS_4941_19960909</td>\n",
              "      <td>TCGA_DU_A5TR_19970726/TCGA_DU_A5TR_19970726_1.tif</td>\n",
              "      <td>TCGA_DU_A5TR_19970726/TCGA_DU_A5TR_19970726_1_...</td>\n",
              "      <td>0</td>\n",
              "    </tr>\n",
              "    <tr>\n",
              "      <th>48</th>\n",
              "      <td>TCGA_CS_4941_19960909</td>\n",
              "      <td>TCGA_DU_A5TT_19980318/TCGA_DU_A5TT_19980318_1.tif</td>\n",
              "      <td>TCGA_DU_A5TT_19980318/TCGA_DU_A5TT_19980318_1_...</td>\n",
              "      <td>0</td>\n",
              "    </tr>\n",
              "    <tr>\n",
              "      <th>49</th>\n",
              "      <td>TCGA_CS_4941_19960909</td>\n",
              "      <td>TCGA_DU_A5TY_19970709/TCGA_DU_A5TY_19970709_1.tif</td>\n",
              "      <td>TCGA_DU_A5TY_19970709/TCGA_DU_A5TY_19970709_1_...</td>\n",
              "      <td>0</td>\n",
              "    </tr>\n",
              "  </tbody>\n",
              "</table>\n",
              "</div>"
            ],
            "text/plain": [
              "               patient_id  ... mask\n",
              "0   TCGA_CS_5395_19981004  ...    0\n",
              "1   TCGA_CS_5395_19981004  ...    0\n",
              "2   TCGA_CS_5395_19981004  ...    0\n",
              "3   TCGA_CS_5395_19981004  ...    0\n",
              "4   TCGA_CS_5395_19981004  ...    0\n",
              "5   TCGA_CS_5395_19981004  ...    0\n",
              "6   TCGA_CS_5395_19981004  ...    0\n",
              "7   TCGA_CS_5395_19981004  ...    0\n",
              "8   TCGA_CS_5395_19981004  ...    0\n",
              "9   TCGA_CS_5395_19981004  ...    0\n",
              "10  TCGA_CS_5395_19981004  ...    0\n",
              "11  TCGA_CS_5395_19981004  ...    0\n",
              "12  TCGA_CS_5395_19981004  ...    0\n",
              "13  TCGA_CS_5395_19981004  ...    0\n",
              "14  TCGA_CS_5395_19981004  ...    0\n",
              "15  TCGA_CS_5395_19981004  ...    0\n",
              "16  TCGA_CS_5395_19981004  ...    0\n",
              "17  TCGA_CS_5395_19981004  ...    0\n",
              "18  TCGA_CS_5395_19981004  ...    0\n",
              "19  TCGA_CS_5395_19981004  ...    0\n",
              "20  TCGA_CS_4944_20010208  ...    0\n",
              "21  TCGA_CS_4944_20010208  ...    0\n",
              "22  TCGA_CS_4944_20010208  ...    0\n",
              "23  TCGA_CS_4944_20010208  ...    0\n",
              "24  TCGA_CS_4944_20010208  ...    0\n",
              "25  TCGA_CS_4944_20010208  ...    0\n",
              "26  TCGA_CS_4944_20010208  ...    0\n",
              "27  TCGA_CS_4944_20010208  ...    0\n",
              "28  TCGA_CS_4944_20010208  ...    0\n",
              "29  TCGA_CS_4944_20010208  ...    0\n",
              "30  TCGA_CS_4944_20010208  ...    0\n",
              "31  TCGA_CS_4944_20010208  ...    0\n",
              "32  TCGA_CS_4944_20010208  ...    0\n",
              "33  TCGA_CS_4944_20010208  ...    0\n",
              "34  TCGA_CS_4944_20010208  ...    0\n",
              "35  TCGA_CS_4944_20010208  ...    0\n",
              "36  TCGA_CS_4944_20010208  ...    0\n",
              "37  TCGA_CS_4944_20010208  ...    0\n",
              "38  TCGA_CS_4944_20010208  ...    0\n",
              "39  TCGA_CS_4944_20010208  ...    0\n",
              "40  TCGA_CS_4941_19960909  ...    0\n",
              "41  TCGA_CS_4941_19960909  ...    0\n",
              "42  TCGA_CS_4941_19960909  ...    0\n",
              "43  TCGA_CS_4941_19960909  ...    0\n",
              "44  TCGA_CS_4941_19960909  ...    0\n",
              "45  TCGA_CS_4941_19960909  ...    0\n",
              "46  TCGA_CS_4941_19960909  ...    0\n",
              "47  TCGA_CS_4941_19960909  ...    0\n",
              "48  TCGA_CS_4941_19960909  ...    0\n",
              "49  TCGA_CS_4941_19960909  ...    0\n",
              "\n",
              "[50 rows x 4 columns]"
            ]
          },
          "metadata": {},
          "execution_count": 7
        }
      ]
    },
    {
      "cell_type": "code",
      "metadata": {
        "colab": {
          "base_uri": "https://localhost:8080/",
          "height": 35
        },
        "id": "530a387d",
        "outputId": "28cbe23c-ac75-4ff9-aa71-b0203503062a"
      },
      "source": [
        "brain_df.mask_path[1] # Ruta a la imagen de la MRI"
      ],
      "id": "530a387d",
      "execution_count": 8,
      "outputs": [
        {
          "output_type": "execute_result",
          "data": {
            "application/vnd.google.colaboratory.intrinsic+json": {
              "type": "string"
            },
            "text/plain": [
              "'TCGA_CS_4944_20010208/TCGA_CS_4944_20010208_1_mask.tif'"
            ]
          },
          "metadata": {},
          "execution_count": 8
        }
      ]
    },
    {
      "cell_type": "code",
      "metadata": {
        "colab": {
          "base_uri": "https://localhost:8080/",
          "height": 35
        },
        "id": "04e29e36",
        "outputId": "013a9ec2-bf17-47fe-d857-a90ad745f60c"
      },
      "source": [
        "brain_df.image_path[1] # Ruta a la imagen de segmentación"
      ],
      "id": "04e29e36",
      "execution_count": 9,
      "outputs": [
        {
          "output_type": "execute_result",
          "data": {
            "application/vnd.google.colaboratory.intrinsic+json": {
              "type": "string"
            },
            "text/plain": [
              "'TCGA_CS_4944_20010208/TCGA_CS_4944_20010208_1.tif'"
            ]
          },
          "metadata": {},
          "execution_count": 9
        }
      ]
    },
    {
      "cell_type": "markdown",
      "metadata": {
        "id": "a965378f"
      },
      "source": [
        "MINI RETO #1:\n",
        "  - ¿Tenemos un dataset balanceado? \n",
        "  - ¿Cuantas muestras están marcadas como 'paciente sano'?"
      ],
      "id": "a965378f"
    },
    {
      "cell_type": "code",
      "metadata": {
        "colab": {
          "base_uri": "https://localhost:8080/"
        },
        "id": "0e1ee619",
        "outputId": "58aec0cd-bb23-4c42-bb90-6337ba9fe7da"
      },
      "source": [
        "brain_df['mask'].value_counts()"
      ],
      "id": "0e1ee619",
      "execution_count": 10,
      "outputs": [
        {
          "output_type": "execute_result",
          "data": {
            "text/plain": [
              "0    2556\n",
              "1    1373\n",
              "Name: mask, dtype: int64"
            ]
          },
          "metadata": {},
          "execution_count": 10
        }
      ]
    },
    {
      "cell_type": "markdown",
      "metadata": {
        "id": "b0763a18"
      },
      "source": [
        "# 3: VISUALIZACIÓN DE DATOS"
      ],
      "id": "b0763a18"
    },
    {
      "cell_type": "code",
      "metadata": {
        "colab": {
          "base_uri": "https://localhost:8080/",
          "height": 419
        },
        "id": "abbcc619",
        "outputId": "58eecc6a-c3a5-4828-e4a0-b0efdb75bdd2"
      },
      "source": [
        "brain_df"
      ],
      "id": "abbcc619",
      "execution_count": 11,
      "outputs": [
        {
          "output_type": "execute_result",
          "data": {
            "text/html": [
              "<div>\n",
              "<style scoped>\n",
              "    .dataframe tbody tr th:only-of-type {\n",
              "        vertical-align: middle;\n",
              "    }\n",
              "\n",
              "    .dataframe tbody tr th {\n",
              "        vertical-align: top;\n",
              "    }\n",
              "\n",
              "    .dataframe thead th {\n",
              "        text-align: right;\n",
              "    }\n",
              "</style>\n",
              "<table border=\"1\" class=\"dataframe\">\n",
              "  <thead>\n",
              "    <tr style=\"text-align: right;\">\n",
              "      <th></th>\n",
              "      <th>patient_id</th>\n",
              "      <th>image_path</th>\n",
              "      <th>mask_path</th>\n",
              "      <th>mask</th>\n",
              "    </tr>\n",
              "  </thead>\n",
              "  <tbody>\n",
              "    <tr>\n",
              "      <th>0</th>\n",
              "      <td>TCGA_CS_5395_19981004</td>\n",
              "      <td>TCGA_CS_5395_19981004/TCGA_CS_5395_19981004_1.tif</td>\n",
              "      <td>TCGA_CS_5395_19981004/TCGA_CS_5395_19981004_1_...</td>\n",
              "      <td>0</td>\n",
              "    </tr>\n",
              "    <tr>\n",
              "      <th>1</th>\n",
              "      <td>TCGA_CS_5395_19981004</td>\n",
              "      <td>TCGA_CS_4944_20010208/TCGA_CS_4944_20010208_1.tif</td>\n",
              "      <td>TCGA_CS_4944_20010208/TCGA_CS_4944_20010208_1_...</td>\n",
              "      <td>0</td>\n",
              "    </tr>\n",
              "    <tr>\n",
              "      <th>2</th>\n",
              "      <td>TCGA_CS_5395_19981004</td>\n",
              "      <td>TCGA_CS_4941_19960909/TCGA_CS_4941_19960909_1.tif</td>\n",
              "      <td>TCGA_CS_4941_19960909/TCGA_CS_4941_19960909_1_...</td>\n",
              "      <td>0</td>\n",
              "    </tr>\n",
              "    <tr>\n",
              "      <th>3</th>\n",
              "      <td>TCGA_CS_5395_19981004</td>\n",
              "      <td>TCGA_CS_4943_20000902/TCGA_CS_4943_20000902_1.tif</td>\n",
              "      <td>TCGA_CS_4943_20000902/TCGA_CS_4943_20000902_1_...</td>\n",
              "      <td>0</td>\n",
              "    </tr>\n",
              "    <tr>\n",
              "      <th>4</th>\n",
              "      <td>TCGA_CS_5395_19981004</td>\n",
              "      <td>TCGA_CS_5396_20010302/TCGA_CS_5396_20010302_1.tif</td>\n",
              "      <td>TCGA_CS_5396_20010302/TCGA_CS_5396_20010302_1_...</td>\n",
              "      <td>0</td>\n",
              "    </tr>\n",
              "    <tr>\n",
              "      <th>...</th>\n",
              "      <td>...</td>\n",
              "      <td>...</td>\n",
              "      <td>...</td>\n",
              "      <td>...</td>\n",
              "    </tr>\n",
              "    <tr>\n",
              "      <th>3924</th>\n",
              "      <td>TCGA_DU_6401_19831001</td>\n",
              "      <td>TCGA_HT_A61B_19991127/TCGA_HT_A61B_19991127_86...</td>\n",
              "      <td>TCGA_HT_A61B_19991127/TCGA_HT_A61B_19991127_86...</td>\n",
              "      <td>0</td>\n",
              "    </tr>\n",
              "    <tr>\n",
              "      <th>3925</th>\n",
              "      <td>TCGA_DU_6401_19831001</td>\n",
              "      <td>TCGA_HT_A61A_20000127/TCGA_HT_A61A_20000127_87...</td>\n",
              "      <td>TCGA_HT_A61A_20000127/TCGA_HT_A61A_20000127_87...</td>\n",
              "      <td>0</td>\n",
              "    </tr>\n",
              "    <tr>\n",
              "      <th>3926</th>\n",
              "      <td>TCGA_DU_6401_19831001</td>\n",
              "      <td>TCGA_HT_A61B_19991127/TCGA_HT_A61B_19991127_87...</td>\n",
              "      <td>TCGA_HT_A61B_19991127/TCGA_HT_A61B_19991127_87...</td>\n",
              "      <td>0</td>\n",
              "    </tr>\n",
              "    <tr>\n",
              "      <th>3927</th>\n",
              "      <td>TCGA_DU_6401_19831001</td>\n",
              "      <td>TCGA_HT_A61A_20000127/TCGA_HT_A61A_20000127_88...</td>\n",
              "      <td>TCGA_HT_A61A_20000127/TCGA_HT_A61A_20000127_88...</td>\n",
              "      <td>0</td>\n",
              "    </tr>\n",
              "    <tr>\n",
              "      <th>3928</th>\n",
              "      <td>TCGA_DU_6401_19831001</td>\n",
              "      <td>TCGA_HT_A61B_19991127/TCGA_HT_A61B_19991127_88...</td>\n",
              "      <td>TCGA_HT_A61B_19991127/TCGA_HT_A61B_19991127_88...</td>\n",
              "      <td>0</td>\n",
              "    </tr>\n",
              "  </tbody>\n",
              "</table>\n",
              "<p>3929 rows × 4 columns</p>\n",
              "</div>"
            ],
            "text/plain": [
              "                 patient_id  ... mask\n",
              "0     TCGA_CS_5395_19981004  ...    0\n",
              "1     TCGA_CS_5395_19981004  ...    0\n",
              "2     TCGA_CS_5395_19981004  ...    0\n",
              "3     TCGA_CS_5395_19981004  ...    0\n",
              "4     TCGA_CS_5395_19981004  ...    0\n",
              "...                     ...  ...  ...\n",
              "3924  TCGA_DU_6401_19831001  ...    0\n",
              "3925  TCGA_DU_6401_19831001  ...    0\n",
              "3926  TCGA_DU_6401_19831001  ...    0\n",
              "3927  TCGA_DU_6401_19831001  ...    0\n",
              "3928  TCGA_DU_6401_19831001  ...    0\n",
              "\n",
              "[3929 rows x 4 columns]"
            ]
          },
          "metadata": {},
          "execution_count": 11
        }
      ]
    },
    {
      "cell_type": "code",
      "metadata": {
        "colab": {
          "base_uri": "https://localhost:8080/"
        },
        "id": "f2f8d694",
        "outputId": "87000cba-f84e-4fce-ebe4-f3bcd0ef7691"
      },
      "source": [
        "brain_df['mask'].value_counts().index"
      ],
      "id": "f2f8d694",
      "execution_count": 12,
      "outputs": [
        {
          "output_type": "execute_result",
          "data": {
            "text/plain": [
              "Int64Index([0, 1], dtype='int64')"
            ]
          },
          "metadata": {},
          "execution_count": 12
        }
      ]
    },
    {
      "cell_type": "code",
      "metadata": {
        "id": "aaabb69c",
        "colab": {
          "base_uri": "https://localhost:8080/",
          "height": 542
        },
        "outputId": "e580099b-84ed-485c-e754-43e69d25d7e5"
      },
      "source": [
        "# Usaremos plotly para hacer un diagrama de barras interactivo\n",
        "import plotly.graph_objects as go\n",
        "\n",
        "fig = go.Figure([go.Bar(x = brain_df['mask'].value_counts().index, y = brain_df['mask'].value_counts())])\n",
        "fig.update_traces(marker_color = 'rgb(0,200,0)', marker_line_color = 'rgb(0,255,0)',\n",
        "                  marker_line_width = 7, opacity = 0.6)\n",
        "fig.show()"
      ],
      "id": "aaabb69c",
      "execution_count": 15,
      "outputs": [
        {
          "output_type": "display_data",
          "data": {
            "text/html": [
              "<html>\n",
              "<head><meta charset=\"utf-8\" /></head>\n",
              "<body>\n",
              "    <div>\n",
              "            <script src=\"https://cdnjs.cloudflare.com/ajax/libs/mathjax/2.7.5/MathJax.js?config=TeX-AMS-MML_SVG\"></script><script type=\"text/javascript\">if (window.MathJax) {MathJax.Hub.Config({SVG: {font: \"STIX-Web\"}});}</script>\n",
              "                <script type=\"text/javascript\">window.PlotlyConfig = {MathJaxConfig: 'local'};</script>\n",
              "        <script src=\"https://cdn.plot.ly/plotly-latest.min.js\"></script>    \n",
              "            <div id=\"9faa9743-398b-4b9c-bc31-7340c138a9ff\" class=\"plotly-graph-div\" style=\"height:525px; width:100%;\"></div>\n",
              "            <script type=\"text/javascript\">\n",
              "                \n",
              "                    window.PLOTLYENV=window.PLOTLYENV || {};\n",
              "                    \n",
              "                if (document.getElementById(\"9faa9743-398b-4b9c-bc31-7340c138a9ff\")) {\n",
              "                    Plotly.newPlot(\n",
              "                        '9faa9743-398b-4b9c-bc31-7340c138a9ff',\n",
              "                        [{\"marker\": {\"color\": \"rgb(0,200,0)\", \"line\": {\"color\": \"rgb(0,255,0)\", \"width\": 7}}, \"opacity\": 0.6, \"type\": \"bar\", \"x\": [0, 1], \"y\": [2556, 1373]}],\n",
              "                        {\"template\": {\"data\": {\"bar\": [{\"error_x\": {\"color\": \"#2a3f5f\"}, \"error_y\": {\"color\": \"#2a3f5f\"}, \"marker\": {\"line\": {\"color\": \"#E5ECF6\", \"width\": 0.5}}, \"type\": \"bar\"}], \"barpolar\": [{\"marker\": {\"line\": {\"color\": \"#E5ECF6\", \"width\": 0.5}}, \"type\": \"barpolar\"}], \"carpet\": [{\"aaxis\": {\"endlinecolor\": \"#2a3f5f\", \"gridcolor\": \"white\", \"linecolor\": \"white\", \"minorgridcolor\": \"white\", \"startlinecolor\": \"#2a3f5f\"}, \"baxis\": {\"endlinecolor\": \"#2a3f5f\", \"gridcolor\": \"white\", \"linecolor\": \"white\", \"minorgridcolor\": \"white\", \"startlinecolor\": \"#2a3f5f\"}, \"type\": \"carpet\"}], \"choropleth\": [{\"colorbar\": {\"outlinewidth\": 0, \"ticks\": \"\"}, \"type\": \"choropleth\"}], \"contour\": [{\"colorbar\": {\"outlinewidth\": 0, \"ticks\": \"\"}, \"colorscale\": [[0.0, \"#0d0887\"], [0.1111111111111111, \"#46039f\"], [0.2222222222222222, \"#7201a8\"], [0.3333333333333333, \"#9c179e\"], [0.4444444444444444, \"#bd3786\"], [0.5555555555555556, \"#d8576b\"], [0.6666666666666666, \"#ed7953\"], [0.7777777777777778, \"#fb9f3a\"], [0.8888888888888888, \"#fdca26\"], [1.0, \"#f0f921\"]], \"type\": \"contour\"}], \"contourcarpet\": [{\"colorbar\": {\"outlinewidth\": 0, \"ticks\": \"\"}, \"type\": \"contourcarpet\"}], \"heatmap\": [{\"colorbar\": {\"outlinewidth\": 0, \"ticks\": \"\"}, \"colorscale\": [[0.0, \"#0d0887\"], [0.1111111111111111, \"#46039f\"], [0.2222222222222222, \"#7201a8\"], [0.3333333333333333, \"#9c179e\"], [0.4444444444444444, \"#bd3786\"], [0.5555555555555556, \"#d8576b\"], [0.6666666666666666, \"#ed7953\"], [0.7777777777777778, \"#fb9f3a\"], [0.8888888888888888, \"#fdca26\"], [1.0, \"#f0f921\"]], \"type\": \"heatmap\"}], \"heatmapgl\": [{\"colorbar\": {\"outlinewidth\": 0, \"ticks\": \"\"}, \"colorscale\": [[0.0, \"#0d0887\"], [0.1111111111111111, \"#46039f\"], [0.2222222222222222, \"#7201a8\"], [0.3333333333333333, \"#9c179e\"], [0.4444444444444444, \"#bd3786\"], [0.5555555555555556, \"#d8576b\"], [0.6666666666666666, \"#ed7953\"], [0.7777777777777778, \"#fb9f3a\"], [0.8888888888888888, \"#fdca26\"], [1.0, \"#f0f921\"]], \"type\": \"heatmapgl\"}], \"histogram\": [{\"marker\": {\"colorbar\": {\"outlinewidth\": 0, \"ticks\": \"\"}}, \"type\": \"histogram\"}], \"histogram2d\": [{\"colorbar\": {\"outlinewidth\": 0, \"ticks\": \"\"}, \"colorscale\": [[0.0, \"#0d0887\"], [0.1111111111111111, \"#46039f\"], [0.2222222222222222, \"#7201a8\"], [0.3333333333333333, \"#9c179e\"], [0.4444444444444444, \"#bd3786\"], [0.5555555555555556, \"#d8576b\"], [0.6666666666666666, \"#ed7953\"], [0.7777777777777778, \"#fb9f3a\"], [0.8888888888888888, \"#fdca26\"], [1.0, \"#f0f921\"]], \"type\": \"histogram2d\"}], \"histogram2dcontour\": [{\"colorbar\": {\"outlinewidth\": 0, \"ticks\": \"\"}, \"colorscale\": [[0.0, \"#0d0887\"], [0.1111111111111111, \"#46039f\"], [0.2222222222222222, \"#7201a8\"], [0.3333333333333333, \"#9c179e\"], [0.4444444444444444, \"#bd3786\"], [0.5555555555555556, \"#d8576b\"], [0.6666666666666666, \"#ed7953\"], [0.7777777777777778, \"#fb9f3a\"], [0.8888888888888888, \"#fdca26\"], [1.0, \"#f0f921\"]], \"type\": \"histogram2dcontour\"}], \"mesh3d\": [{\"colorbar\": {\"outlinewidth\": 0, \"ticks\": \"\"}, \"type\": \"mesh3d\"}], \"parcoords\": [{\"line\": {\"colorbar\": {\"outlinewidth\": 0, \"ticks\": \"\"}}, \"type\": \"parcoords\"}], \"pie\": [{\"automargin\": true, \"type\": \"pie\"}], \"scatter\": [{\"marker\": {\"colorbar\": {\"outlinewidth\": 0, \"ticks\": \"\"}}, \"type\": \"scatter\"}], \"scatter3d\": [{\"line\": {\"colorbar\": {\"outlinewidth\": 0, \"ticks\": \"\"}}, \"marker\": {\"colorbar\": {\"outlinewidth\": 0, \"ticks\": \"\"}}, \"type\": \"scatter3d\"}], \"scattercarpet\": [{\"marker\": {\"colorbar\": {\"outlinewidth\": 0, \"ticks\": \"\"}}, \"type\": \"scattercarpet\"}], \"scattergeo\": [{\"marker\": {\"colorbar\": {\"outlinewidth\": 0, \"ticks\": \"\"}}, \"type\": \"scattergeo\"}], \"scattergl\": [{\"marker\": {\"colorbar\": {\"outlinewidth\": 0, \"ticks\": \"\"}}, \"type\": \"scattergl\"}], \"scattermapbox\": [{\"marker\": {\"colorbar\": {\"outlinewidth\": 0, \"ticks\": \"\"}}, \"type\": \"scattermapbox\"}], \"scatterpolar\": [{\"marker\": {\"colorbar\": {\"outlinewidth\": 0, \"ticks\": \"\"}}, \"type\": \"scatterpolar\"}], \"scatterpolargl\": [{\"marker\": {\"colorbar\": {\"outlinewidth\": 0, \"ticks\": \"\"}}, \"type\": \"scatterpolargl\"}], \"scatterternary\": [{\"marker\": {\"colorbar\": {\"outlinewidth\": 0, \"ticks\": \"\"}}, \"type\": \"scatterternary\"}], \"surface\": [{\"colorbar\": {\"outlinewidth\": 0, \"ticks\": \"\"}, \"colorscale\": [[0.0, \"#0d0887\"], [0.1111111111111111, \"#46039f\"], [0.2222222222222222, \"#7201a8\"], [0.3333333333333333, \"#9c179e\"], [0.4444444444444444, \"#bd3786\"], [0.5555555555555556, \"#d8576b\"], [0.6666666666666666, \"#ed7953\"], [0.7777777777777778, \"#fb9f3a\"], [0.8888888888888888, \"#fdca26\"], [1.0, \"#f0f921\"]], \"type\": \"surface\"}], \"table\": [{\"cells\": {\"fill\": {\"color\": \"#EBF0F8\"}, \"line\": {\"color\": \"white\"}}, \"header\": {\"fill\": {\"color\": \"#C8D4E3\"}, \"line\": {\"color\": \"white\"}}, \"type\": \"table\"}]}, \"layout\": {\"annotationdefaults\": {\"arrowcolor\": \"#2a3f5f\", \"arrowhead\": 0, \"arrowwidth\": 1}, \"coloraxis\": {\"colorbar\": {\"outlinewidth\": 0, \"ticks\": \"\"}}, \"colorscale\": {\"diverging\": [[0, \"#8e0152\"], [0.1, \"#c51b7d\"], [0.2, \"#de77ae\"], [0.3, \"#f1b6da\"], [0.4, \"#fde0ef\"], [0.5, \"#f7f7f7\"], [0.6, \"#e6f5d0\"], [0.7, \"#b8e186\"], [0.8, \"#7fbc41\"], [0.9, \"#4d9221\"], [1, \"#276419\"]], \"sequential\": [[0.0, \"#0d0887\"], [0.1111111111111111, \"#46039f\"], [0.2222222222222222, \"#7201a8\"], [0.3333333333333333, \"#9c179e\"], [0.4444444444444444, \"#bd3786\"], [0.5555555555555556, \"#d8576b\"], [0.6666666666666666, \"#ed7953\"], [0.7777777777777778, \"#fb9f3a\"], [0.8888888888888888, \"#fdca26\"], [1.0, \"#f0f921\"]], \"sequentialminus\": [[0.0, \"#0d0887\"], [0.1111111111111111, \"#46039f\"], [0.2222222222222222, \"#7201a8\"], [0.3333333333333333, \"#9c179e\"], [0.4444444444444444, \"#bd3786\"], [0.5555555555555556, \"#d8576b\"], [0.6666666666666666, \"#ed7953\"], [0.7777777777777778, \"#fb9f3a\"], [0.8888888888888888, \"#fdca26\"], [1.0, \"#f0f921\"]]}, \"colorway\": [\"#636efa\", \"#EF553B\", \"#00cc96\", \"#ab63fa\", \"#FFA15A\", \"#19d3f3\", \"#FF6692\", \"#B6E880\", \"#FF97FF\", \"#FECB52\"], \"font\": {\"color\": \"#2a3f5f\"}, \"geo\": {\"bgcolor\": \"white\", \"lakecolor\": \"white\", \"landcolor\": \"#E5ECF6\", \"showlakes\": true, \"showland\": true, \"subunitcolor\": \"white\"}, \"hoverlabel\": {\"align\": \"left\"}, \"hovermode\": \"closest\", \"mapbox\": {\"style\": \"light\"}, \"paper_bgcolor\": \"white\", \"plot_bgcolor\": \"#E5ECF6\", \"polar\": {\"angularaxis\": {\"gridcolor\": \"white\", \"linecolor\": \"white\", \"ticks\": \"\"}, \"bgcolor\": \"#E5ECF6\", \"radialaxis\": {\"gridcolor\": \"white\", \"linecolor\": \"white\", \"ticks\": \"\"}}, \"scene\": {\"xaxis\": {\"backgroundcolor\": \"#E5ECF6\", \"gridcolor\": \"white\", \"gridwidth\": 2, \"linecolor\": \"white\", \"showbackground\": true, \"ticks\": \"\", \"zerolinecolor\": \"white\"}, \"yaxis\": {\"backgroundcolor\": \"#E5ECF6\", \"gridcolor\": \"white\", \"gridwidth\": 2, \"linecolor\": \"white\", \"showbackground\": true, \"ticks\": \"\", \"zerolinecolor\": \"white\"}, \"zaxis\": {\"backgroundcolor\": \"#E5ECF6\", \"gridcolor\": \"white\", \"gridwidth\": 2, \"linecolor\": \"white\", \"showbackground\": true, \"ticks\": \"\", \"zerolinecolor\": \"white\"}}, \"shapedefaults\": {\"line\": {\"color\": \"#2a3f5f\"}}, \"ternary\": {\"aaxis\": {\"gridcolor\": \"white\", \"linecolor\": \"white\", \"ticks\": \"\"}, \"baxis\": {\"gridcolor\": \"white\", \"linecolor\": \"white\", \"ticks\": \"\"}, \"bgcolor\": \"#E5ECF6\", \"caxis\": {\"gridcolor\": \"white\", \"linecolor\": \"white\", \"ticks\": \"\"}}, \"title\": {\"x\": 0.05}, \"xaxis\": {\"automargin\": true, \"gridcolor\": \"white\", \"linecolor\": \"white\", \"ticks\": \"\", \"title\": {\"standoff\": 15}, \"zerolinecolor\": \"white\", \"zerolinewidth\": 2}, \"yaxis\": {\"automargin\": true, \"gridcolor\": \"white\", \"linecolor\": \"white\", \"ticks\": \"\", \"title\": {\"standoff\": 15}, \"zerolinecolor\": \"white\", \"zerolinewidth\": 2}}}},\n",
              "                        {\"responsive\": true}\n",
              "                    ).then(function(){\n",
              "                            \n",
              "var gd = document.getElementById('9faa9743-398b-4b9c-bc31-7340c138a9ff');\n",
              "var x = new MutationObserver(function (mutations, observer) {{\n",
              "        var display = window.getComputedStyle(gd).display;\n",
              "        if (!display || display === 'none') {{\n",
              "            console.log([gd, 'removed!']);\n",
              "            Plotly.purge(gd);\n",
              "            observer.disconnect();\n",
              "        }}\n",
              "}});\n",
              "\n",
              "// Listen for the removal of the full notebook cells\n",
              "var notebookContainer = gd.closest('#notebook-container');\n",
              "if (notebookContainer) {{\n",
              "    x.observe(notebookContainer, {childList: true});\n",
              "}}\n",
              "\n",
              "// Listen for the clearing of the current output cell\n",
              "var outputEl = gd.closest('.output');\n",
              "if (outputEl) {{\n",
              "    x.observe(outputEl, {childList: true});\n",
              "}}\n",
              "\n",
              "                        })\n",
              "                };\n",
              "                \n",
              "            </script>\n",
              "        </div>\n",
              "</body>\n",
              "</html>"
            ]
          },
          "metadata": {}
        }
      ]
    },
    {
      "cell_type": "code",
      "metadata": {
        "id": "77AeORC20Bon"
      },
      "source": [
        ""
      ],
      "id": "77AeORC20Bon",
      "execution_count": null,
      "outputs": []
    }
  ]
}